{
 "cells": [
  {
   "cell_type": "markdown",
   "metadata": {
    "id": "GYc97WFJYC-f"
   },
   "source": [
    "# Machine Learning\n",
    "## Programming Assignment 2: KNN\n",
    "\n",
    "#### Instructions:\n",
    "The aim of this assignment is to give you hands-on experience with a real-life machine learning application.\n",
    "You will be analyzing the sentiment of tweets using KNN classification.\n",
    "You can only use the Python programming language and Jupyter Notebooks.\n",
    "Please use procedural programming style and comment your code thoroughly.\n",
    "There are two parts of this assignment. In part 1, you can use NumPy, Pandas, Matplotlib, and any other standard Python libraries. You are not allowed to use NLTK, scikit-learn, or any other machine learning toolkit. You can only use scikit-learn in part 2."
   ]
  },
  {
   "cell_type": "markdown",
   "metadata": {
    "id": "71aWGqftYC-l"
   },
   "source": [
    "### Part 1: Implementing KNN classifier from scratch (75 marks)\n",
    "\n",
    "You are not allowed to use scikit-learn or any other machine learning toolkit for this part. You have to implement your own KNN classifier from scratch. You may use Pandas, NumPy, Matplotlib, and other standard Python libraries.\n",
    "\n",
    "#### Problem:\n",
    "The purpose of this assignment is to get you familiar with the k nearest neighbor classification. You are given the ‘Apple Sentiment Tweets’ dataset that contains around 1630 tweets about Apple labeled as positive, neutral and negative in the form of 1, 0, and -1 respectively. Your task is to implement the k nearest classifier and use it for predicting the sentiments of the tweets about Apple.\n"
   ]
  },
  {
   "cell_type": "code",
   "execution_count": 34,
   "metadata": {
    "id": "8N3i9vY0YC-n"
   },
   "outputs": [
    {
     "data": {
      "text/html": [
       "<div>\n",
       "<style scoped>\n",
       "    .dataframe tbody tr th:only-of-type {\n",
       "        vertical-align: middle;\n",
       "    }\n",
       "\n",
       "    .dataframe tbody tr th {\n",
       "        vertical-align: top;\n",
       "    }\n",
       "\n",
       "    .dataframe thead th {\n",
       "        text-align: right;\n",
       "    }\n",
       "</style>\n",
       "<table border=\"1\" class=\"dataframe\">\n",
       "  <thead>\n",
       "    <tr style=\"text-align: right;\">\n",
       "      <th></th>\n",
       "      <th>text</th>\n",
       "      <th>sentiment</th>\n",
       "    </tr>\n",
       "  </thead>\n",
       "  <tbody>\n",
       "    <tr>\n",
       "      <th>0</th>\n",
       "      <td>Wow. Yall needa step it up @Apple RT @heynyla:...</td>\n",
       "      <td>-1</td>\n",
       "    </tr>\n",
       "    <tr>\n",
       "      <th>1</th>\n",
       "      <td>What Happened To Apple Inc?   http://t.co/FJEX...</td>\n",
       "      <td>0</td>\n",
       "    </tr>\n",
       "    <tr>\n",
       "      <th>2</th>\n",
       "      <td>Thank u @apple I can now compile all of the pi...</td>\n",
       "      <td>1</td>\n",
       "    </tr>\n",
       "    <tr>\n",
       "      <th>3</th>\n",
       "      <td>The oddly uplifting story of the Apple co-foun...</td>\n",
       "      <td>0</td>\n",
       "    </tr>\n",
       "    <tr>\n",
       "      <th>4</th>\n",
       "      <td>@apple can i exchange my iphone for a differen...</td>\n",
       "      <td>0</td>\n",
       "    </tr>\n",
       "    <tr>\n",
       "      <th>...</th>\n",
       "      <td>...</td>\n",
       "      <td>...</td>\n",
       "    </tr>\n",
       "    <tr>\n",
       "      <th>1625</th>\n",
       "      <td>Those** PICK UP THE SLACK YOU FUCK BOYS @Apple</td>\n",
       "      <td>-1</td>\n",
       "    </tr>\n",
       "    <tr>\n",
       "      <th>1626</th>\n",
       "      <td>Finally got my iPhone 6 in the mail and it com...</td>\n",
       "      <td>-1</td>\n",
       "    </tr>\n",
       "    <tr>\n",
       "      <th>1627</th>\n",
       "      <td>@umo_games @Apple ended up getting a new compu...</td>\n",
       "      <td>0</td>\n",
       "    </tr>\n",
       "    <tr>\n",
       "      <th>1628</th>\n",
       "      <td>The 19-Year-Old #WizKid Who Turned Down @Apple...</td>\n",
       "      <td>0</td>\n",
       "    </tr>\n",
       "    <tr>\n",
       "      <th>1629</th>\n",
       "      <td>The iPhone 6 May Have A Longer Upgrade Cycle -...</td>\n",
       "      <td>-1</td>\n",
       "    </tr>\n",
       "  </tbody>\n",
       "</table>\n",
       "<p>1630 rows × 2 columns</p>\n",
       "</div>"
      ],
      "text/plain": [
       "                                                   text  sentiment\n",
       "0     Wow. Yall needa step it up @Apple RT @heynyla:...         -1\n",
       "1     What Happened To Apple Inc?   http://t.co/FJEX...          0\n",
       "2     Thank u @apple I can now compile all of the pi...          1\n",
       "3     The oddly uplifting story of the Apple co-foun...          0\n",
       "4     @apple can i exchange my iphone for a differen...          0\n",
       "...                                                 ...        ...\n",
       "1625     Those** PICK UP THE SLACK YOU FUCK BOYS @Apple         -1\n",
       "1626  Finally got my iPhone 6 in the mail and it com...         -1\n",
       "1627  @umo_games @Apple ended up getting a new compu...          0\n",
       "1628  The 19-Year-Old #WizKid Who Turned Down @Apple...          0\n",
       "1629  The iPhone 6 May Have A Longer Upgrade Cycle -...         -1\n",
       "\n",
       "[1630 rows x 2 columns]"
      ]
     },
     "execution_count": 34,
     "metadata": {},
     "output_type": "execute_result"
    }
   ],
   "source": [
    "## Here are the libraries you will need for this part\n",
    "import pandas as pd\n",
    "import numpy as np\n",
    "import scipy.spatial as sc\n",
    "import matplotlib.pyplot as plt\n",
    "import re\n",
    "import random\n",
    "\n",
    "# Read the dataset\n",
    "df = pd.read_csv(\"Apple Sentiment Tweets.csv\")\n",
    "df\n"
   ]
  },
  {
   "cell_type": "code",
   "execution_count": 35,
   "metadata": {
    "scrolled": true
   },
   "outputs": [
    {
     "name": "stdout",
     "output_type": "stream",
     "text": [
      "No of Positive Tweets :  143\n",
      "No of Neutral Tweets :  801\n",
      "No of Negative Tweets :  686\n"
     ]
    }
   ],
   "source": [
    "# count no of positive, neutral and negative tweets\n",
    "\n",
    "pos_tweets = df[df[\"sentiment\"] == 1].shape[0]\n",
    "neu_tweets = df[df[\"sentiment\"] == 0].shape[0]\n",
    "neg_tweets = df[df[\"sentiment\"] == -1].shape[0]\n",
    "\n",
    "print(\"No of Positive Tweets : \", pos_tweets)\n",
    "print(\"No of Neutral Tweets : \", neu_tweets)\n",
    "print(\"No of Negative Tweets : \", neg_tweets)"
   ]
  },
  {
   "cell_type": "code",
   "execution_count": 36,
   "metadata": {},
   "outputs": [
    {
     "data": {
      "image/png": "[encoded data removed]",
      "text/plain": [
       "<Figure size 640x480 with 1 Axes>"
      ]
     },
     "metadata": {},
     "output_type": "display_data"
    }
   ],
   "source": [
    "# Show on bar graph\n",
    "\n",
    "sentiments = [\"Positive(1)\", \"Neutral(0)\", \"Negative(-1)\"]\n",
    "counts = [pos_tweets, neu_tweets, neg_tweets]\n",
    "\n",
    "plt.bar(sentiments, counts, color=[\"green\", \"blue\", \"Red\"])\n",
    "plt.xlabel(\"Sentiment\")\n",
    "plt.ylabel(\"Counts\")\n",
    "plt.title(\"Sentiments Analysis of tweets\")\n",
    "plt.show()"
   ]
  },
  {
   "cell_type": "code",
   "execution_count": 37,
   "metadata": {},
   "outputs": [],
   "source": [
    "# Function to clean and preprocessing the tweets\n",
    "\n",
    "def cleaning(tweet):\n",
    "    tweet = tweet.lower() # convert tweet into lowercase \n",
    "    tweet = re.sub(r'[^\\w\\s]', '', tweet) # Remove special characters\n",
    "    \n",
    "    return tweet"
   ]
  },
  {
   "cell_type": "code",
   "execution_count": 38,
   "metadata": {},
   "outputs": [],
   "source": [
    "# Function to calculate euclidean distance b/w two tweets\n",
    "\n",
    "def euclidean(t1, t2):\n",
    "    words_t1 = set(t1.split())\n",
    "    words_t2 = set(t2.split())\n",
    "    \n",
    "    distance = len(words_t1.symmetric_difference(words_t2))\n",
    "    return distance"
   ]
  },
  {
   "cell_type": "code",
   "execution_count": 39,
   "metadata": {},
   "outputs": [],
   "source": [
    "# Function to predict the sentiments using KNN classifier\n",
    "\n",
    "def Predict_KNN(tweet, k=3): # because positive, neutral and negative are 3 classes\n",
    "    processed = cleaning(tweet)\n",
    "    dist = [(euclidean(processed, cleaning(row['text'])), row['sentiment']) for _, row in df.iterrows()]   \n",
    "    dist.sort(key=lambda x: x[0])\n",
    "    neighbors = dist[:k]\n",
    "    sentiment_count = {1:0, 0:0, -1:0}\n",
    "    \n",
    "    for _,sent in neighbors:\n",
    "        sentiment_count[sent] += 1\n",
    "        \n",
    "    predicted_sentiment = max(sentiment_count, key=sentiment_count.get)\n",
    "    return predicted_sentiment\n"
   ]
  },
  {
   "cell_type": "code",
   "execution_count": 40,
   "metadata": {},
   "outputs": [
    {
     "name": "stdout",
     "output_type": "stream",
     "text": [
      "Predicted Sentiment about the tweet on Apple:  -1\n",
      "Negative\n"
     ]
    }
   ],
   "source": [
    "# New Tweet about Apple\n",
    "\n",
    "new_tweet = \"Apple is much complicated as compare to andriod\"\n",
    "\n",
    "# Predict sentiment of above new tweet using KNN-algorithm\n",
    "prediction = Predict_KNN(new_tweet, k=3)\n",
    "\n",
    "print(\"Predicted Sentiment about the tweet on Apple: \", prediction)\n",
    "if prediction == 1:\n",
    "    print(\"Positive\")\n",
    "elif prediction == 0:\n",
    "    print(\"Neutral\")\n",
    "elif prediction == -1:\n",
    "    print(\"Negative\")"
   ]
  },
  {
   "cell_type": "code",
   "execution_count": 41,
   "metadata": {},
   "outputs": [
    {
     "name": "stdout",
     "output_type": "stream",
     "text": [
      "Predicted Sentiment about the 2nd weet available in dataset:  1\n",
      "Positive\n"
     ]
    }
   ],
   "source": [
    "# Check is it predicting true or not\n",
    "\n",
    "# Now i am checking to predict tweet number2 of the dataset and sentiment of that tweet is 1(positive) in the dataset\n",
    "# Then my knn algorithm must print same as available in dataset\n",
    "\n",
    "new_tweet = df[\"text\"][2] # 2nd tweet of datasset having sentiment (1)\n",
    "\n",
    "# Predict sentiment of above new tweet using KNN-algorithm\n",
    "prediction = Predict_KNN(new_tweet, k=3)\n",
    "\n",
    "print(\"Predicted Sentiment about the 2nd weet available in dataset: \", prediction)\n",
    "if prediction == 1:\n",
    "    print(\"Positive\")\n",
    "elif prediction == 0:\n",
    "    print(\"Neutral\")\n",
    "elif prediction == -1:\n",
    "    print(\"Negative\")\n",
    "\n",
    "# Its is prediciting it as (1) it means our model is working good"
   ]
  },
  {
   "cell_type": "markdown",
   "metadata": {
    "id": "y4Q0l7n_YC-p"
   },
   "source": [
    "#### Task 1.1: Dataset (5 points)\n",
    "The dataset contains around 1,630 tweets. There are only two columns in the dataset:\n",
    "Text: Contains the text of the tweet\n",
    "Sentiment: Contains the sentiment of the tweet which is divided into three classes: 1 (positive), -1 (negative), and 0 (neutral).\n",
    "\n",
    "Your task is to read the dataset and stopwords file into a useful data structure. Print out a few tweets and a few items from the stop word list, succesfully being able to do this will earn you 5 points."
   ]
  },
  {
   "cell_type": "code",
   "execution_count": 42,
   "metadata": {
    "id": "j2HquGKyYC-q"
   },
   "outputs": [
    {
     "name": "stdout",
     "output_type": "stream",
     "text": [
      "Sample tweets from the dataset:\n",
      "                                                text  sentiment\n",
      "0  Wow. Yall needa step it up @Apple RT @heynyla:...         -1\n",
      "1  What Happened To Apple Inc?   http://t.co/FJEX...          0\n",
      "2  Thank u @apple I can now compile all of the pi...          1\n",
      "3  The oddly uplifting story of the Apple co-foun...          0\n",
      "4  @apple can i exchange my iphone for a differen...          0\n",
      "\n",
      "Sample stopwords:\n",
      "['i', \"i'm\", 'me', 'my', 'myself', 'we', 'our', 'ours', 'ourselves', 'you']\n"
     ]
    }
   ],
   "source": [
    "import pandas as pd\n",
    "\n",
    "df = pd.read_csv(\"Apple Sentiment Tweets.csv\")\n",
    "\n",
    "# Display the first few rows of the dataset\n",
    "print(\"Sample tweets from the dataset:\")\n",
    "print(df.head())\n",
    "\n",
    "with open(\"stop_words.txt\", \"r\") as file:\n",
    "    stopwords = file.read().splitlines()\n",
    "\n",
    "# Display a few stopwords\n",
    "print(\"\\nSample stopwords:\")\n",
    "print(stopwords[:10]) "
   ]
  },
  {
   "cell_type": "markdown",
   "metadata": {
    "id": "EljMqK2wYC-r"
   },
   "source": [
    "#### Task 1.2: Data Preprocessing (10 points)\n",
    "\n",
    "In the preprocessing step, you’re required to remove the stop words, punctuation marks, numbers, unwanted symbols, hyperlinks, and usernames from the tweets and convert them to lower case. You may find the string and regex module useful for this purpose. Use the stop word list provided within the assignment.\n",
    "\n",
    "Print out a few random tweets from your dataset, if they conform to the rules mentioned above, you will gain 10 points."
   ]
  },
  {
   "cell_type": "code",
   "execution_count": 43,
   "metadata": {
    "id": "AEME-wqzYC-r"
   },
   "outputs": [
    {
     "name": "stdout",
     "output_type": "stream",
     "text": [
      "Sample preprocessed tweets:\n",
      "['hey could make iphone charger lasts month sincerely broke high school student wants phone charged', 'app store aint working', 'youre one apparently based last interview', 'apple support twitter think', 'best stevejobs apple aapl tech via']\n"
     ]
    },
    {
     "data": {
      "text/html": [
       "<div>\n",
       "<style scoped>\n",
       "    .dataframe tbody tr th:only-of-type {\n",
       "        vertical-align: middle;\n",
       "    }\n",
       "\n",
       "    .dataframe tbody tr th {\n",
       "        vertical-align: top;\n",
       "    }\n",
       "\n",
       "    .dataframe thead th {\n",
       "        text-align: right;\n",
       "    }\n",
       "</style>\n",
       "<table border=\"1\" class=\"dataframe\">\n",
       "  <thead>\n",
       "    <tr style=\"text-align: right;\">\n",
       "      <th></th>\n",
       "      <th>text</th>\n",
       "      <th>sentiment</th>\n",
       "      <th>cleaned_text</th>\n",
       "    </tr>\n",
       "  </thead>\n",
       "  <tbody>\n",
       "    <tr>\n",
       "      <th>0</th>\n",
       "      <td>Wow. Yall needa step it up @Apple RT @heynyla:...</td>\n",
       "      <td>-1</td>\n",
       "      <td>wow yall needa step rt music snapchat damn tim...</td>\n",
       "    </tr>\n",
       "    <tr>\n",
       "      <th>1</th>\n",
       "      <td>What Happened To Apple Inc?   http://t.co/FJEX...</td>\n",
       "      <td>0</td>\n",
       "      <td>happened apple inc aapl apple</td>\n",
       "    </tr>\n",
       "    <tr>\n",
       "      <th>2</th>\n",
       "      <td>Thank u @apple I can now compile all of the pi...</td>\n",
       "      <td>1</td>\n",
       "      <td>thank u compile pics communicate one place</td>\n",
       "    </tr>\n",
       "    <tr>\n",
       "      <th>3</th>\n",
       "      <td>The oddly uplifting story of the Apple co-foun...</td>\n",
       "      <td>0</td>\n",
       "      <td>oddly uplifting story apple cofounder sold sta...</td>\n",
       "    </tr>\n",
       "    <tr>\n",
       "      <th>4</th>\n",
       "      <td>@apple can i exchange my iphone for a differen...</td>\n",
       "      <td>0</td>\n",
       "      <td>exchange iphone different color lmao changed mind</td>\n",
       "    </tr>\n",
       "    <tr>\n",
       "      <th>...</th>\n",
       "      <td>...</td>\n",
       "      <td>...</td>\n",
       "      <td>...</td>\n",
       "    </tr>\n",
       "    <tr>\n",
       "      <th>1625</th>\n",
       "      <td>Those** PICK UP THE SLACK YOU FUCK BOYS @Apple</td>\n",
       "      <td>-1</td>\n",
       "      <td>pick slack fuck boys</td>\n",
       "    </tr>\n",
       "    <tr>\n",
       "      <th>1626</th>\n",
       "      <td>Finally got my iPhone 6 in the mail and it com...</td>\n",
       "      <td>-1</td>\n",
       "      <td>finally got iphone mail comes box busted scree...</td>\n",
       "    </tr>\n",
       "    <tr>\n",
       "      <th>1627</th>\n",
       "      <td>@umo_games @Apple ended up getting a new compu...</td>\n",
       "      <td>0</td>\n",
       "      <td>ended getting new computer anyhow work compute...</td>\n",
       "    </tr>\n",
       "    <tr>\n",
       "      <th>1628</th>\n",
       "      <td>The 19-Year-Old #WizKid Who Turned Down @Apple...</td>\n",
       "      <td>0</td>\n",
       "      <td>yearold wizkid turned nabbed backing hollywood...</td>\n",
       "    </tr>\n",
       "    <tr>\n",
       "      <th>1629</th>\n",
       "      <td>The iPhone 6 May Have A Longer Upgrade Cycle -...</td>\n",
       "      <td>-1</td>\n",
       "      <td>iphone may longer upgrade cycle expect unit sa...</td>\n",
       "    </tr>\n",
       "  </tbody>\n",
       "</table>\n",
       "<p>1630 rows × 3 columns</p>\n",
       "</div>"
      ],
      "text/plain": [
       "                                                   text  sentiment                                       cleaned_text\n",
       "0     Wow. Yall needa step it up @Apple RT @heynyla:...         -1  wow yall needa step rt music snapchat damn tim...\n",
       "1     What Happened To Apple Inc?   http://t.co/FJEX...          0                      happened apple inc aapl apple\n",
       "2     Thank u @apple I can now compile all of the pi...          1         thank u compile pics communicate one place\n",
       "3     The oddly uplifting story of the Apple co-foun...          0  oddly uplifting story apple cofounder sold sta...\n",
       "4     @apple can i exchange my iphone for a differen...          0  exchange iphone different color lmao changed mind\n",
       "...                                                 ...        ...                                                ...\n",
       "1625     Those** PICK UP THE SLACK YOU FUCK BOYS @Apple         -1                               pick slack fuck boys\n",
       "1626  Finally got my iPhone 6 in the mail and it com...         -1  finally got iphone mail comes box busted scree...\n",
       "1627  @umo_games @Apple ended up getting a new compu...          0  ended getting new computer anyhow work compute...\n",
       "1628  The 19-Year-Old #WizKid Who Turned Down @Apple...          0  yearold wizkid turned nabbed backing hollywood...\n",
       "1629  The iPhone 6 May Have A Longer Upgrade Cycle -...         -1  iphone may longer upgrade cycle expect unit sa...\n",
       "\n",
       "[1630 rows x 3 columns]"
      ]
     },
     "execution_count": 43,
     "metadata": {},
     "output_type": "execute_result"
    }
   ],
   "source": [
    "import pandas as pd\n",
    "import re\n",
    "import string\n",
    "\n",
    "# Function to preprocess tweets\n",
    "def preprocess_tweet(tweet):\n",
    "    tweet = tweet.lower()\n",
    "    tweet = re.sub(r'@\\w+', '', tweet) # Removing user names which starts with @Abcd\n",
    "    tweet = re.sub(r'http\\S+', '', tweet) # Removing Hyperlinks\n",
    "    tweet = tweet.translate(str.maketrans('', '', string.punctuation + '0123456789')) # Removing punctuation and numbers\n",
    "    tweet = ' '.join(tweet.split()) # Removing extra whitespace\n",
    "    tweet = ' '.join(word for word in tweet.split() if word not in stopwords) # Removing stopwords\n",
    "    return tweet\n",
    "\n",
    "df[\"cleaned_text\"] = df[\"text\"].apply(preprocess_tweet)\n",
    "\n",
    "print(\"Sample preprocessed tweets:\")\n",
    "print(df[\"cleaned_text\"].sample(5).tolist())\n",
    "\n",
    "df # cleaned text column having clean tweets"
   ]
  },
  {
   "cell_type": "markdown",
   "metadata": {
    "id": "JTEWPNSeYC-s"
   },
   "source": [
    "#### Task 1.3: Splitting the dataset (5 points)\n",
    "\n",
    "In this part, divide the given dataset into training and testing sets based on an 80-20 split using python.\n",
    "Print out the sizes of the training dataset and test dataset, training data should contain 1304 tweets and test data should contain 326 tweets. If your sizes are correct, you get full points."
   ]
  },
  {
   "cell_type": "code",
   "execution_count": 44,
   "metadata": {
    "id": "2qhg1EkwYC-t"
   },
   "outputs": [
    {
     "name": "stdout",
     "output_type": "stream",
     "text": [
      "Training dataset size: 1304\n",
      "Test dataset size: 326\n"
     ]
    }
   ],
   "source": [
    "import pandas as pd\n",
    "import numpy as np\n",
    "\n",
    "df = pd.read_csv(\"Apple Sentiment Tweets.csv\")\n",
    "test_size = 326\n",
    "train_size = df.shape[0] - test_size\n",
    "\n",
    "# Shuffle the dataset\n",
    "shuffled_df = df.sample(frac=1, random_state=42).reset_index(drop=True)\n",
    "\n",
    "# Split the dataset\n",
    "train_df = shuffled_df[:train_size]\n",
    "test_df = shuffled_df[train_size:train_size + test_size]\n",
    "\n",
    "print(f\"Training dataset size: {len(train_df)}\")\n",
    "print(f\"Test dataset size: {len(test_df)}\")\n"
   ]
  },
  {
   "cell_type": "markdown",
   "metadata": {
    "id": "EoINrWPEYC-u"
   },
   "source": [
    "#### Task 1.4: Feature Extraction (10 points)\n",
    "\n",
    "In the feature extraction step, you’ll represent each tweet as a bag-of-words (BoW), that is, an unordered set of words with their position ignored, keeping only their frequency in the tweet. For example, consider the below tweets:\n",
    "T1 = Welcome to machine learning!\n",
    "T2 = kNN is a powerful machine learning algorithm.\n",
    "The bag-of-words representation (ignoring numbers, case, and punctuation) for the above tweets are:\n",
    "\n",
    "| Vocabulary | welcome | To | machine | learning | knn | is | a | powerful | algorithm |\n",
    "| --- | --- | --- | --- | --- | --- | --- | --- | --- | --- |\n",
    "| T1 | 1 | 1 | 1 | 1 | 0 | 0 | 0 | 0 | 0 |\n",
    "| T2 | 0 | 0 | 1 | 1 | 1 | 1 | 1 | 1 | 1 |\n",
    "\n",
    "\n",
    "Note: We only use the training set to construct the vocabulary for the BoW representation.\n",
    "\n",
    "Print out the vocabulary as well as the bow representation for a random tweet. Getting the correct output will result in full credit."
   ]
  },
  {
   "cell_type": "code",
   "execution_count": 45,
   "metadata": {
    "id": "Epq0oRzPYC-v"
   },
   "outputs": [
    {
     "name": "stdout",
     "output_type": "stream",
     "text": [
      "Vocabulary:\n",
      "['aapl', 'aapla', 'aaplafterhours', 'aaplapple', 'aaplapples', 'aaplbuzz', 'aaplcorporate', 'aaplcorrupt', 'aaplin', 'aaplinch', 'aaplipad', 'aapliphone', 'aaplis', 'aapljim', 'aaplnew', 'aaplone', 'aaplpacific', 'aaplpale', 'aaplpm', 'aaplshould', 'aaplsteve', 'aaplwatch', 'aaron', 'abandoned', 'abck', 'abe', 'ability', 'able', 'absolute', 'absolutely', 'accent', 'access', 'accessability', 'accessible', 'accessory', 'accident', 'accidentally', 'according', 'accused', 'achilles', 'act', 'acted', 'action', 'actions', 'activation', 'actor', 'actual', 'actually', 'ad', 'adapters', 'add', 'adding', 'addis', 'additional', 'address', 'adds', 'adjust', 'admire', 'admits', 'adoptions', 'ads', 'advanced', 'advertisement', 'advertising', 'af', 'africa', 'afterhours', 'agai', 'aging', 'ago', 'agree', 'agreed', 'agreedhave', 'ahahahah', 'ahead', 'aids', 'aint', 'air', 'airdrop', 'airmiles', 'airmilesshops', 'airplay', 'airport', 'aka', 'alabama', 'alarm', 'alarming', 'alarms', 'album', 'alex', 'alibaba', 'alignment', 'alle', 'alleged', 'allow', 'allowing', 'almost', 'alone', 'already', 'also', 'alternative', 'always', 'amazing', 'amazingly', 'amazon', 'amba', 'amendment', 'america', 'amid', 'amnt', 'amp', 'ampt', 'amzn', 'anal', 'analysis', 'analyst', 'analysts', 'anderson', 'android', 'androidauto', 'anf', 'anger', 'angry', 'announces', 'annoyed', 'annoying', 'annoys', 'anon', 'another', 'answer', 'anti', 'anticompetition', 'antidiscrimination', 'antitrust', 'anybody', 'anyhow', 'anymore', 'anymr', 'anyone', 'anything', 'anyway', 'anywhere', 'apart', 'ape', 'aperture', 'apols', 'app', 'appadvice', 'apparently', 'appeals', 'appear', 'appears', 'apple', 'appleaddict', 'applebees', 'applecordfire', 'appledec', 'appleemojissuck', 'applefail', 'appleids', 'applenews', 'appleonly', 'applepay', 'appleproblems', 'appleprobs', 'applersscnncomrrssmoneylatestnpscmqwlindexhtml', 'apples', 'applesuport', 'appletv', 'applewatch', 'applewatches', 'application', 'applications', 'appointment', 'approach', 'approvals', 'approve', 'approved', 'approves', 'apps', 'appstore', 'archive', 'arent', 'argh', 'arguably', 'arm', 'arndale', 'arranging', 'arrows', 'asap', 'aside', 'ask', 'asking', 'asks', 'ass', 'assembled', 'asshole', 'assistant', 'atampt', 'attached', 'attacks', 'attempts', 'attention', 'audience', 'audio', 'auditorium', 'authority', 'auto', 'autocorrect', 'autocorrectprobs', 'autocorrects', 'automatically', 'autopassword', 'avago', 'availability', 'available', 'average', 'avgo', 'avoiding', 'aw', 'awards', 'aware', 'away', 'awdl', 'awesome', 'awful', 'awsome', 'ay', 'aye', 'b', 'baba', 'baby', 'back', 'backing', 'backtofront', 'backup', 'backwards', 'bad', 'badservice', 'baitandswitched', 'balance', 'baller', 'balls', 'ban', 'band', 'bank', 'banks', 'banned', 'bar', 'barclays', 'based', 'basis', 'basket', 'bastards', 'batteries', 'battery', 'battle', 'battles', 'bayarea', 'bbry', 'bc', 'bdsm', 'beams', 'beating', 'beats', 'beatselectronics', 'beautiful', 'bec', 'become', 'becoming', 'beefing', 'beginning', 'behind', 'believe', 'bell', 'belongs', 'belt', 'bend', 'bent', 'benzene', 'best', 'bestbook', 'bet', 'bethesdarow', 'betrayed', 'bets', 'better', 'beyond', 'biased', 'big', 'bigger', 'biggest', 'bil', 'bill', 'billion', 'billionaires', 'bills', 'bit', 'biztechltd', 'bk', 'black', 'blackberry', 'blackdollarsmatter', 'blackfriday', 'blacklivesmatters', 'blame', 'blames', 'bllshit', 'block', 'blocked', 'blog', 'bloody', 'bloombergtv', 'blown', 'blue', 'blunderblock', 'bn', 'board', 'boarding', 'bob', 'bobe', 'bonds', 'bonus', 'book', 'books', 'boommovement', 'boost', 'boot', 'booted', 'booting', 'boots', 'bose', 'boss', 'bostonholiday', 'bought', 'bourgeois', 'bout', 'box', 'boylston', 'boys', 'bps', 'brain', 'brand', 'brandable', 'branded', 'branding', 'brandon', 'brands', 'brass', 'brcm', 'bread', 'break', 'breaking', 'breaks', 'brent', 'bricked', 'bridging', 'brief', 'bright', 'bring', 'bringing', 'bro', 'broadway', 'broke', 'broken', 'brokenchargerprobs', 'brooklyn', 'brown', 'browser', 'bruh', 'bs', 'btc', 'bubble', 'bucks', 'buddies', 'buffett', 'bug', 'buggy', 'bugs', 'build', 'building', 'built', 'bulky', 'bull', 'bullish', 'bulls', 'bullshit', 'bumrushed', 'bunch', 'burning', 'business', 'button', 'buy', 'buying', 'buzz', 'byebyebye', 'c', 'ca', 'cables', 'caf揭', 'cake', 'calendar', 'call', 'called', 'caller', 'calling', 'calls', 'came', 'camera', 'campus', 'canaccord', 'cannot', 'cant', 'cantgoback', 'cantor', 'cap', 'capital', 'capitalized', 'capitalizes', 'capitalizing', 'caps', 'captures', 'car', 'card', 'cardboard', 'cardio', 'cards', 'care', 'carefully', 'carplay', 'carry', 'cars', 'case', 'casestudy', 'cash', 'cashback', 'casts', 'casual', 'cat', 'catch', 'catching', 'caught', 'cause', 'caused', 'caviar', 'cc', 'celebrities', 'center', 'central', 'centsability', 'century', 'ceo', 'certain', 'certified', 'cgk', 'cha', 'chain', 'challenge', 'challenges', 'chan', 'chance', 'change', 'changed', 'changer', 'changes', 'changing', 'channels', 'characters', 'charge', 'charged', 'charger', 'chargers', 'charges', 'charging', 'chartoftheday', 'chat', 'chats', 'cheap', 'check', 'checked', 'checkitout', 'checkout', 'checks', 'cheeky', 'chef', 'chevron', 'chief', 'child', 'children', 'china', 'chinasupercharged', 'chinese', 'chipping', 'chocolate', 'choosewisely', 'christmas', 'chrome', 'chromecast', 'cindy', 'cinna', 'cio', 'circles', 'cite', 'cites', 'citigroup', 'ck', 'claim', 'claiming', 'claims', 'claire', 'clash', 'class', 'classic', 'classroom', 'clave', 'clear', 'cleared', 'clearly', 'client', 'clients', 'clock', 'close', 'closing', 'cloud', 'clunky', 'cnbc', 'cnbctv', 'cnn', 'cock', 'cocky', 'code', 'coding', 'coffees', 'cofounder', 'collaborated', 'collaboration', 'collapse', 'collection', 'color', 'colors', 'com', 'combine', 'comcast', 'come', 'comes', 'comet', 'comics', 'coming', 'command', 'comments', 'commercial', 'commercials', 'common', 'communicate', 'communication', 'community', 'commute', 'compact', 'companies', 'company', 'comparison', 'compatibility', 'compatible', 'competes', 'competing', 'competition', 'compile', 'complain', 'complaint', 'complete', 'completely', 'compliant', 'complicated', 'component', 'compuserve', 'computer', 'computerhistory', 'computers', 'computing', 'concentrated', 'conclusion', 'condo', 'condoseniors', 'confirmed', 'confusing', 'congrats', 'congratulations', 'connect', 'connected', 'conputer', 'cons', 'consensus', 'consider', 'considering', 'conspirator', 'constantly', 'consumer', 'consumers', 'contact', 'contacts', 'content', 'contentportfolios', 'continue', 'continues', 'continuity', 'contra', 'contract', 'contracts', 'control', 'controls', 'convert', 'convinced', 'cook', 'cookery', 'cool', 'cooltech', 'cooperating', 'copied', 'copy', 'copying', 'cord', 'cords', 'core', 'corp', 'corpora', 'corporate', 'corporation', 'correct', 'cost', 'costing', 'costs', 'couch', 'could', 'couldnt', 'counted', 'countries', 'counts', 'couple', 'course', 'court', 'cover', 'covers', 'covert', 'cramer', 'crap', 'crapple', 'crappy', 'crash', 'crashes', 'crashing', 'crazy', 'create', 'created', 'creates', 'creative', 'credit', 'creditcare', 'crescentgategate', 'crest', 'crests', 'criticizes', 'crowd', 'crowdsourcing', 'crush', 'crystal', 'cue', 'cuhz', 'culture', 'cunts', 'cupertino', 'cures', 'currency', 'current', 'currently', 'custom', 'customer', 'customerforlife', 'customers', 'customerservice', 'customerserviceexperience', 'customization', 'cut', 'cutandpaste', 'cute', 'cuts', 'cwb', 'cx', 'cyber', 'cybermonday', 'cycle', 'cyndi', 'da', 'dad', 'daily', 'dailymotion', 'dam', 'damage', 'damages', 'dammit', 'damn', 'dampness', 'dan', 'dana', 'danbilzerian', 'dancing', 'dang', 'danger', 'daniels', 'daring', 'data', 'date', 'dawn', 'dawned', 'day', 'daycomplete', 'dayoffduties', 'days', 'dc', 'dead', 'deal', 'dealing', 'deals', 'dear', 'debunking', 'debut', 'debuts', 'dec', 'decades', 'decem', 'december', 'decent', 'decided', 'decimated', 'decorations', 'dedicated', 'def', 'default', 'defect', 'defective', 'defend', 'defending', 'defends', 'definitely', 'definition', 'degree', 'delays', 'delete', 'deleted', 'deletegame', 'deleting', 'delias', 'delivery', 'demand', 'demographic', 'demonstrate', 'deniability', 'dent', 'dep', 'department', 'deposition', 'depriving', 'describes', 'description', 'deserve', 'deserves', 'design', 'designer', 'desktop', 'desperate', 'destructive', 'detailed', 'details', 'detected', 'deterioates', 'determined', 'dev', 'developer', 'developers', 'developing', 'development', 'developments', 'device', 'devices', 'deviceslearn', 'devils', 'devs', 'dey', 'diag', 'dice', 'dick', 'dictatorship', 'dictionary', 'didnt', 'die', 'died', 'diein', 'dies', 'difference', 'differences', 'different', 'difficult', 'digging', 'digidaydbs', 'digital', 'digs', 'dime', 'dip', 'dire', 'director', 'disagree', 'disappear', 'disappears', 'disappoint', 'disappointed', 'disaster', 'disc', 'disconnected', 'discount', 'discreet', 'discuss', 'discusses', 'discussions', 'disgrace', 'disgruntled', 'disguised', 'disgusted', 'disgusting', 'disk', 'dislike', 'dismiss', 'dispensers', 'display', 'displays', 'displeased', 'disrespectful', 'disruptive', 'district', 'disturb', 'diy', 'dltr', 'dm', 'dma', 'dmv', 'dock', 'doclens', 'doesnt', 'doin', 'dois', 'dollars', 'dominates', 'domt', 'donates', 'donating', 'done', 'donkey', 'dont', 'dontask', 'downgrade', 'downgraded', 'downgrades', 'downhill', 'download', 'downloaded', 'dozens', 'draining', 'drama', 'dream', 'dreaming', 'dreams', 'drive', 'driven', 'driver', 'drm', 'drop', 'dropped', 'drops', 'drum', 'drummer', 'duck', 'dude', 'due', 'dumb', 'dumbass', 'duns', 'durability', 'dying', 'e', 'earbuds', 'earlier', 'earliest', 'early', 'earned', 'earnings', 'earns', 'earphone', 'earplugs', 'earth', 'easier', 'easy', 'eat', 'eats', 'ebay', 'ebook', 'ebooks', 'ecommerce', 'economic', 'ecosystem', 'eddy', 'edgf', 'edit', 'edn', 'edtech', 'education', 'edward', 'eem', 'effects', 'efficiently', 'efforts', 'eggs', 'ego', 'eight', 'elaborate', 'elevate', 'elgato', 'else', 'em', 'email', 'emailed', 'emails', 'emanon', 'embarrassed', 'embrace', 'emerge', 'emoji', 'emojis', 'emphasis', 'employee', 'employeediscount', 'employees', 'emulation', 'en', 'end', 'endangering', 'ended', 'ending', 'engine', 'engineer', 'english', 'enjoy', 'enjoying', 'enough', 'ensure', 'entering', 'enterprise', 'entire', 'entries', 'episode', 'eps', 'equalitycivil', 'equally', 'erases', 'ericgarner', 'error', 'es', 'esignal', 'esp', 'espionage', 'etc', 'etnui', 'eu', 'eur', 'ev', 'evans', 'even', 'event', 'events', 'ever', 'everafter', 'everlovin', 'every', 'everyday', 'everyone', 'everything', 'everytime', 'everywhere', 'evils', 'ewwwwww', 'exact', 'exactly', 'excellent', 'exceptionally', 'exchange', 'exchanging', 'excited', 'exciting', 'exclusive', 'excuse', 'exec', 'execs', 'executed', 'executives', 'existing', 'exit', 'expand', 'expect', 'expected', 'expensive', 'experience', 'expert', 'expertise', 'experts', 'explain', 'explanation', 'explode', 'explore', 'exposed', 'express', 'extensions', 'external', 'extra', 'exxon', 'eye', 'f', 'face', 'facebook', 'facetime', 'facing', 'fact', 'facts', 'fades', 'faggots', 'fags', 'fail', 'failing', 'failure', 'fair', 'faith', 'fall', 'fallen', 'fallontimberlake', 'falls', 'falseadvertising', 'fam', 'family', 'fan', 'fanaticism', 'fancy', 'fans', 'fantastic', 'fargo', 'farms', 'farreaching', 'fashion', 'fashioned', 'fashionfocused', 'fashionluxury', 'fashiontech', 'fast', 'faster', 'fat', 'fault', 'favor', 'favorites', 'favourite', 'fb', 'fbi', 'fck', 'fearing', 'feature', 'featured', 'features', 'featuring', 'february', 'fed', 'federal', 'feed', 'feedback', 'feel', 'feeling', 'feels', 'fell', 'fellow', 'fernandez', 'fetching', 'ffs', 'fibonacci', 'fight', 'fighting', 'fights', 'figure', 'file', 'files', 'final', 'finally', 'finals', 'finance', 'find', 'finder', 'fine', 'fined', 'fing', 'finger', 'fingers', 'finna', 'fintech', 'fios', 'fire', 'fireball', 'fires', 'first', 'firstever', 'firstworldproblems', 'fitness', 'fitnesstracker', 'fits', 'five', 'fix', 'fixed', 'fixing', 'fixit', 'fkn', 'flac', 'flag', 'flash', 'flashvsarrow', 'flips', 'fly', 'flyover', 'fml', 'fnd', 'focus', 'focuses', 'focusing', 'folder', 'folders', 'folk', 'follow', 'following', 'food', 'fool', 'foot', 'footage', 'forbes', 'force', 'forcing', 'forecast', 'foreign', 'forex', 'forget', 'form', 'format', 'former', 'forth', 'fortune', 'forums', 'found', 'founder', 'four', 'fq', 'fr', 'fragile', 'france', 'franchise', 'frankcaliendo', 'fraud', 'fray', 'frayed', 'freaking', 'free', 'freemoney', 'freezes', 'freezing', 'french', 'frenemy', 'frequent', 'fricking', 'friday', 'frn', 'front', 'froze', 'fruit', 'ft', 'ftdaily', 'fuck', 'fucked', 'fucker', 'fuckin', 'fucking', 'fucks', 'full', 'fulltime', 'fully', 'fun', 'funconvo', 'function', 'functionality', 'functioning', 'fund', 'fusion', 'futter', 'future', 'futures', 'futuristic', 'fuuuuccckkkk', 'g', 'gadget', 'gadgets', 'gain', 'gained', 'galaxy', 'game', 'gamed', 'gamergate', 'games', 'gaming', 'garage', 'garbage', 'gate', 'gathering', 'gauna', 'gave', 'gawd', 'gay', 'gayrights', 'gb', 'gbs', 'gear', 'geekcentric', 'genius', 'geniuses', 'george', 'georgetown', 'gercht', 'germany', 'get', 'gets', 'getting', 'gg', 'ghetto', 'giants', 'giantsized', 'gift', 'gifts', 'give', 'giveaway', 'given', 'gives', 'giving', 'givingtuesday', 'glass', 'glitch', 'glitches', 'glitching', 'global', 'gmacpro', 'gmail', 'go', 'goal', 'god', 'goddamn', 'goes', 'going', 'gold', 'gone', 'gonna', 'good', 'goodbye', 'goodmore', 'goog', 'googl', 'google', 'googlemusic', 'googles', 'gopro', 'gosh', 'got', 'gotta', 'government', 'gpro', 'grab', 'grand', 'grandma', 'graphics', 'grave', 'gravitational', 'gravity', 'gray', 'great', 'greatcompany', 'greatservice', 'greedy', 'green', 'greg', 'grief', 'grip', 'grmn', 'groove', 'gross', 'ground', 'group', 'groupchat', 'grow', 'growing', 'growth', 'gt', 'guard', 'guardian', 'guards', 'guess', 'guitar', 'gullible', 'guru', 'guy', 'guys', 'gva', 'gwen', 'gwenstefani', 'ha', 'hackathon', 'hacked', 'hackers', 'hah', 'haha', 'hahha', 'hail', 'hair', 'halfassed', 'hamzei', 'hand', 'handed', 'handle', 'handles', 'hands', 'handson', 'handy', 'hang', 'hanging', 'hangs', 'hank', 'happen', 'happend', 'happened', 'happening', 'happily', 'happy', 'hard', 'harddrive', 'hardware', 'harry', 'hasnt', 'hatch', 'hate', 'hav', 'havent', 'head', 'headed', 'header', 'heading', 'headlines', 'headphones', 'heads', 'headsaregoingtoroll', 'headwind', 'health', 'healthkit', 'hear', 'hears', 'heart', 'heavy', 'hebrew', 'heck', 'hed', 'hedge', 'hedging', 'held', 'hell', 'help', 'helpful', 'helping', 'helps', 'heres', 'herewegolakers', 'hey', 'hi', 'high', 'higher', 'highpriced', 'hikes', 'hines', 'hint', 'hipster', 'hiring', 'history', 'hit', 'hitting', 'hnhd', 'hoarding', 'hoarse', 'hoe', 'hold', 'holding', 'hole', 'holiday', 'holidays', 'holidaythemed', 'hollywood', 'home', 'homekit', 'homework', 'honest', 'honestly', 'honored', 'hoos', 'hope', 'hopefully', 'horific', 'horrendous', 'horrible', 'horseshit', 'horvath', 'host', 'hostage', 'hosting', 'hot', 'hour', 'hourofcode', 'hours', 'house', 'housingits', 'howif', 'howto', 'howwhy', 'hr', 'hrs', 'huge', 'huh', 'hundreds', 'hung', 'hurr', 'hurry', 'hurt', 'iads', 'ian', 'iansomerhalder', 'ibdnews', 'ibooks', 'ical', 'icloud', 'icymi', 'id', 'idea', 'ideas', 'ideology', 'idk', 'idr', 'ie', 'ifail', 'iflipphone', 'ignore', 'ignored', 'ii', 'ill', 'im', 'ima', 'imac', 'images', 'imask', 'imessage', 'imessages', 'immune', 'imovie', 'impact', 'implementations', 'import', 'important', 'impossible', 'impressed', 'improve', 'improved', 'inapp', 'inc', 'inceased', 'incensing', 'inch', 'includes', 'including', 'incompetence', 'inconsistency', 'inconsistent', 'increase', 'increases', 'incredible', 'incs', 'india', 'indian', 'individualizing', 'industry', 'inevitability', 'infiniteflight', 'info', 'innovation', 'innovative', 'insane', 'insanely', 'insider', 'insight', 'inspired', 'install', 'installations', 'installing', 'instasavvy', 'instead', 'intc', 'integration', 'integrity', 'intel', 'interesting', 'interestingfact', 'interestingly', 'international', 'internet', 'interview', 'intraday', 'introductions', 'invented', 'invest', 'investigates', 'investor', 'investorplace', 'investwall', 'invitation', 'invn', 'ios', 'iosissues', 'iot', 'iovine', 'ip', 'ipad', 'ipaded', 'ipadmini', 'ipads', 'iphon', 'iphone', 'iphonec', 'iphoneissues', 'iphonemini', 'iphoneplus', 'iphoneproblems', 'iphones', 'iphoneweak', 'ipod', 'ipods', 'ipodtouchthgen', 'ipster', 'ipxs', 'ir', 'irig', 'iron', 'ironic', 'irrelevant', 'irritating', 'ischool', 'iscuba', 'isheep', 'isnt', 'issue', 'issued', 'issues', 'istores', 'italicize', 'itc', 'items', 'iti', 'itouch', 'itunes', 'it椰s', 'iupdate', 'ive', 'iwatch', 'jams', 'jane', 'japan', 'jeff', 'jenna', 'jesus', 'jh', 'jimcramer', 'jimmy', 'jimmyiovine', 'jmp', 'job', 'jobs', 'jobspring', 'john', 'johnny', 'johnspallanzani', 'join', 'joins', 'jokes', 'journey', 'judgment', 'juicio', 'julian', 'julie', 'jump', 'jun', 'junk', 'jurors', 'justice', 'justsayin', 'jw', 'k', 'kalashnikov', 'kantar', 'kantars', 'kardashian', 'kare', 'kashka', 'kass', 'kedrosky', 'keep', 'keeps', 'ketosis', 'key', 'keyboard', 'keyboards', 'keylogger', 'keys', 'khloe', 'kick', 'kicks', 'kidding', 'kids', 'kill', 'killed', 'killing', 'kills', 'kind', 'kinda', 'kindly', 'kinectstyle', 'king', 'kirkby', 'kit', 'know', 'knowledge', 'known', 'knows', 'kristen', 'krumpers', 'krumping', 'kthx', 'l', 'la', 'labeling', 'lack', 'lady', 'lagging', 'lands', 'landscapetwitter', 'language', 'languages', 'lap', 'laptop', 'large', 'largely', 'larger', 'largest', 'laser', 'last', 'lastpass', 'lasts', 'late', 'lately', 'later', 'latest', 'launch', 'launches', 'lauper', 'lausds', 'law', 'lawmakers', 'lawsuit', 'lawyer', 'layaway', 'lead', 'leader', 'leaders', 'leadership', 'leads', 'leadtimes', 'leaked', 'leapfrogs', 'learn', 'learning', 'least', 'leave', 'lecture', 'left', 'leg', 'legendary', 'legit', 'lego', 'lei', 'length', 'less', 'let', 'lets', 'letter', 'lettering', 'letters', 'letting', 'level', 'levels', 'lgbt', 'lgbtq', 'lghtc', 'life', 'lifetime', 'lighten', 'lightning', 'like', 'likewatchingpaintdry', 'liking', 'limb', 'line', 'link', 'list', 'listen', 'listeners', 'literally', 'little', 'liu', 'live', 'lives', 'lmao', 'lmfao', 'lnkd', 'load', 'local', 'locations', 'lock', 'locked', 'log', 'logic', 'login', 'logo', 'lol', 'lolol', 'long', 'longer', 'longreads', 'longtermlarry', 'look', 'looked', 'looking', 'looks', 'loop', 'loose', 'loses', 'losing', 'lost', 'lot', 'lou', 'loud', 'lounge', 'love', 'loving', 'low', 'lowkey', 'lumia', 'luxury', 'lynch', 'lyv', 'mac', 'macbook', 'macbookpro', 'machine', 'machines', 'macmail', 'macos', 'macs', 'macys', 'made', 'madrid', 'magicleap', 'mail', 'mails', 'main', 'mainly', 'maintain', 'major', 'make', 'maker', 'makers', 'makes', 'maketh', 'making', 'male', 'man', 'manager', 'managers', 'mango', 'manifestation', 'manufacturing', 'many', 'map', 'mapple', 'maps', 'margin', 'mark', 'market', 'marketing', 'markets', 'marriage', 'mary', 'mass', 'massie', 'master', 'mastercard', 'match', 'matches', 'mathematically', 'maverick', 'mavericks', 'maximally', 'may', 'maybe', 'mbp', 'mcafee', 'mchp', 'mean', 'meaning', 'means', 'meant', 'measly', 'mechanism', 'media', 'meeee', 'meet', 'megaherts', 'mein', 'melasdesign', 'melted', 'meme', 'memer', 'memorial', 'memory', 'mentioned', 'menu', 'merge', 'merrill', 'message', 'messages', 'messed', 'messup', 'metadata', 'method', 'mfi', 'microchips', 'microphone', 'microsoft', 'microsofts', 'mid', 'midair', 'middle', 'might', 'miles', 'million', 'min', 'mind', 'mine', 'mini', 'miniflash', 'miniheartattack', 'minimal', 'minute', 'minutes', 'mis', 'misleading', 'misplaced', 'miss', 'missing', 'misspelled', 'misssnowleopard', 'mistake', 'mix', 'mkt', 'mm', 'mobil', 'mobile', 'mobiledose', 'mobilefirst', 'mobilephone', 'mobilesecurity', 'mobiquitys', 'mockup', 'models', 'moderate', 'modicumofprudence', 'moldy', 'moment', 'momentum', 'moms', 'monarchywpb', 'monday', 'mondays', 'monetizaton', 'money', 'moneylosing', 'monitor', 'month', 'monthd', 'months', 'montht', 'monument', 'mophie', 'morgan', 'morning', 'morphing', 'mostly', 'mosttttt', 'motivation', 'motley', 'motors', 'mouse', 'move', 'moved', 'movers', 'moves', 'movie', 'moving', 'mp', 'mpeg', 'mt', 'mths', 'mu', 'much', 'muhfugs', 'multifolds', 'multiple', 'multiply', 'mum', 'murder', 'music', 'musicbiz', 'musicindustry', 'musicnews', 'musks', 'muslim', 'must', 'muted', 'mystery', 'myth', 'myths', 'n', 'nabbed', 'name', 'named', 'names', 'namesake', 'nandos', 'nasdaq', 'nasdaqaapl', 'nathan', 'nature', 'navigation', 'nd', 'nearly', 'necks', 'need', 'needa', 'needed', 'needs', 'negative', 'neither', 'nerdup', 'netbot', 'network', 'never', 'new', 'newer', 'newest', 'newly', 'newphone', 'news', 'newtoy', 'next', 'nice', 'nigga', 'niggas', 'night', 'nightly', 'nightmare', 'nke', 'nomoreapple', 'non', 'nonbanks', 'none', 'nonfiction', 'nonitunes', 'nono', 'nontravelling', 'normal', 'note', 'notes', 'nothing', 'notice', 'noticed', 'notification', 'notifications', 'november', 'nowhere', 'nowounder', 'nsa', 'number', 'nut', 'nvram', 'nyc', 'nys', 'nyset', 'objectivec', 'observation', 'obviously', 'october', 'oculus', 'odd', 'oddly', 'odyssey', 'offense', 'offer', 'offering', 'offffff', 'office', 'official', 'oh', 'ohone', 'ok', 'okay', 'old', 'omg', 'one', 'ones', 'onfoodableweekly', 'online', 'onlinefootprint', 'onlinegaming', 'oops', 'open', 'opening', 'operation', 'operations', 'opportunity', 'options', 'orders', 'original', 'orrin', 'orwellian', 'os', 'osx', 'others', 'otter', 'otterboxes', 'outlet', 'outlets', 'outlook', 'outperform', 'outro', 'outselling', 'outstanding', 'outta', 'overall', 'overheard', 'overnight', 'overrided', 'overtook', 'overvalued', 'overweight', 'owner', 'owners', 'pac', 'pacific', 'packaging', 'paek', 'page', 'pages', 'paid', 'pain', 'painfully', 'pains', 'pandora', 'panelist', 'paper', 'paperclip', 'parable', 'parents', 'paris', 'part', 'partnered', 'party', 'pass', 'passes', 'passingthetime', 'passwd', 'password', 'past', 'patent', 'patents', 'paul', 'pay', 'payed', 'paying', 'payments', 'paypal', 'pc', 'pcs', 'peaked', 'peanutbuttersandwich', 'peeling', 'peeps', 'pegraton', 'pennsylvania', 'people', 'peoples', 'per', 'percent', 'percentage', 'perfect', 'perform', 'permanent', 'permission', 'person', 'pesky', 'petitioning', 'petty', 'phablet', 'phablets', 'phone', 'phones', 'photo', 'photographing', 'photos', 'physical', 'pic', 'pick', 'picking', 'picks', 'pics', 'pictures', 'piece', 'pieces', 'pill', 'pilot', 'pin', 'pink', 'pinkscreenofdeath', 'pioneer', 'piss', 'pissed', 'pissing', 'pity', 'pivot', 'pizza', 'place', 'places', 'plaintiff', 'plaintiffs', 'plan', 'plane', 'planning', 'plans', 'plastic', 'platform', 'plausible', 'play', 'played', 'player', 'playing', 'playlist', 'please', 'pls', 'plug', 'plugged', 'plummet', 'plus', 'pm', 'point', 'points', 'poli', 'police', 'policebodycameras', 'politics', 'poorcustomerservice', 'pop', 'popular', 'porn', 'port', 'portfolio', 'portion', 'pos', 'position', 'positioning', 'possible', 'post', 'posted', 'posting', 'potato', 'potential', 'potter', 'power', 'powerstation', 'ppl', 'praetorian', 'predicted', 'predictions', 'predictive', 'preference', 'preferences', 'premarket', 'premium', 'preopening', 'preorder', 'presenting', 'presents', 'press', 'presses', 'pretty', 'preventing', 'preview', 'previous', 'previously', 'price', 'priced', 'pricefixing', 'priceless', 'prices', 'pricks', 'primesense', 'principled', 'print', 'printer', 'prison', 'privacy', 'pro', 'proaudio', 'prob', 'probably', 'problem', 'problems', 'probly', 'process', 'processed', 'prodhad', 'produce', 'product', 'production', 'products', 'profit', 'profits', 'program', 'programing', 'programmatic', 'programme', 'programming', 'project', 'projects', 'promoproduct', 'promote', 'promoting', 'proof', 'props', 'pros', 'protect', 'protected', 'protection', 'protective', 'protest', 'protesters', 'protestors', 'protests', 'prototype', 'provided', 'providesell', 'psycho', 'pt', 'pull', 'pullback', 'pulled', 'purchase', 'purchased', 'purpose', 'push', 'pushing', 'put', 'putcallratios', 'puts', 'putting', 'q', 'qcom', 'qualcomms', 'quality', 'quantifiedself', 'quarter', 'question', 'questions', 'queue', 'quick', 'quickly', 'quietly', 'quite', 'quotes', 'r', 'race', 'radio', 'radioshack', 'rage', 'raiders', 'rain', 'raised', 'raises', 'rampd', 'random', 'range', 'ranking', 'rap', 'rape', 'rareearths', 'rating', 'rd', 'reach', 'read', 'readd', 'reading', 'ready', 'real', 'realise', 'realistic', 'reality', 'realityfull', 'really', 'realnetworks', 'realworld', 'reason', 'reasonable', 'reasons', 'rebirth', 'recall', 'receipt', 'receive', 'received', 'recent', 'recently', 'reception', 'recognition', 'record', 'recorded', 'recording', 'records', 'recourse', 'recruiting', 'recurring', 'recycling', 'red', 'rediculous', 'redownload', 'reenabled', 'reflex', 'refurbd', 'refurbished', 'refurbs', 'refused', 'regards', 'regentsstreet', 'regret', 'reinstall', 'reiterated', 'reiterates', 'rejected', 'related', 'release', 'releases', 'relevant', 'reliable', 'relief', 'rem', 'remarkable', 'remember', 'remind', 'reminded', 'reminds', 'remote', 'remotesupport', 'removal', 'remove', 'removed', 'reorder', 'rep', 'repair', 'repeatinghelp', 'replace', 'replaced', 'replacement', 'replacing', 'report', 'reported', 'reportedly', 'reports', 'req', 'request', 'reseller', 'reservations', 'reset', 'resolution', 'resolve', 'resolved', 'resource', 'resources', 'responsible', 'rest', 'restart', 'restarted', 'restarting', 'restaurant', 'restore', 'restored', 'resubmission', 'retail', 'retaileraapl', 'retina', 'retort', 'retrieve', 'return', 'returning', 'retweet', 'reveal', 'revealed', 'reveals', 'revenue', 'reverse', 'reversed', 'review', 'reviewing', 'revolution', 'rich', 'ride', 'ridiculous', 'rift', 'rig', 'right', 'rights', 'ringer', 'ringtone', 'ringtones', 'ripoff', 'rival', 'rivals', 'rlly', 'robertson', 'robin', 'robust', 'roccckkkssss', 'rockefeller', 'rocks', 'roll', 'rolled', 'rolling', 'room', 'rotten', 'roundup', 'rt', 'rubbish', 'rude', 'ruin', 'ruined', 'ruining', 'rules', 'rumor', 'rumors', 'rumour', 'rumoured', 'rumours', 'run', 'running', 'russia', 'ryandorsey', 'sad', 'sadly', 'safari', 'safe', 'said', 'sake', 'sale', 'sales', 'salut', 'samsung', 'saturday', 'save', 'saved', 'saver', 'saw', 'say', 'says', 'scandal', 'scanner', 'scary', 'scene', 'school', 'sci', 'scissorhands', 'scramble', 'scrap', 'scratches', 'screen', 'screens', 'screws', 'sctratched', 'sculley', 'sd', 'sdk', 'seamlessly', 'search', 'searched', 'searching', 'season', 'second', 'seconds', 'secret', 'secretly', 'section', 'sector', 'securities', 'security', 'see', 'seeing', 'seek', 'seeks', 'seem', 'seemed', 'seems', 'seen', 'selection', 'self', 'sell', 'selling', 'sells', 'senator', 'send', 'sending', 'sense', 'sent', 'sentence', 'sentenced', 'seo', 'serious', 'seriously', 'server', 'service', 'services', 'set', 'sets', 'setting', 'settings', 'several', 'sh', 'shady', 'shame', 'share', 'shares', 'sharp', 'shattered', 'shelves', 'shifts', 'ship', 'shipping', 'shit', 'shittiest', 'shitty', 'shittychargers', 'shocked', 'shockingly', 'shoot', 'shopping', 'short', 'shortage', 'shortages', 'shouldnt', 'shout', 'shoutout', 'show', 'shows', 'showtimes', 'shut', 'shutitdown', 'shuts', 'shutting', 'sick', 'side', 'sigh', 'sight', 'sign', 'signed', 'significant', 'silent', 'silicon', 'silicone', 'silly', 'similar', 'simple', 'simplicity', 'simply', 'since', 'sincerely', 'singapore', 'siri', 'siripassbook', 'sit', 'sits', 'sitting', 'six', 'size', 'skype', 'skyworks', 'slack', 'slackin', 'slams', 'sleep', 'slice', 'slides', 'slippery', 'slow', 'small', 'smart', 'smarter', 'smartphone', 'smartwatch', 'smashed', 'smd', 'smh', 'smhq', 'smile', 'snapchat', 'snapdragon', 'snatched', 'snowbirds', 'soap', 'soar', 'soared', 'social', 'software', 'sold', 'soldering', 'solid', 'solution', 'solutions', 'somebody', 'someone', 'something', 'sometime', 'sometimes', 'somewhat', 'song', 'songlength', 'songs', 'sons', 'sony', 'soo', 'soon', 'sooooo', 'sophian', 'sorkins', 'sorry', 'sort', 'sorti', 'sorting', 'sortitout', 'soslow', 'sotos', 'sound', 'soundplugs', 'source', 'sourcekit', 'soviet', 'space', 'space痒mapping', 'speak', 'speaker', 'speakers', 'speaking', 'special', 'specu', 'speculation', 'spell', 'spellcheck', 'spend', 'spending', 'spent', 'spin', 'spite', 'split', 'sponsordeal', 'spot', 'spring', 'sprint', 'spy', 'squad', 'square', 'st', 'stab', 'staff', 'stage', 'stake', 'stakeholderengagement', 'stand', 'stanley', 'staplers', 'star', 'starbucks', 'starring', 'start', 'starting', 'startup', 'startups', 'stations', 'stats', 'statue', 'stay', 'stbs', 'steal', 'steam', 'stefani', 'step', 'stepped', 'steps', 'steve', 'stevejobs', 'stick', 'sticker', 'stickers', 'stickybrand', 'still', 'stock', 'stockaction', 'stocks', 'stolen', 'stonersports', 'stop', 'stopped', 'storage', 'store', 'storepretty', 'stores', 'story', 'straight', 'strange', 'strategic', 'streaming', 'street', 'streethigh', 'stress', 'strikes', 'stripes', 'strong', 'struggle', 'struggles', 'student', 'students', 'studio', 'stuff', 'stupid', 'subject', 'suburban', 'success', 'successfully', 'suck', 'sucking', 'sucks', 'sucky', 'suddenly', 'sue', 'suffering', 'suggest', 'suggested', 'suicide', 'suing', 'suit', 'suite', 'suits', 'sums', 'sun', 'sunday', 'super', 'supplier', 'suppliers', 'supply', 'supplychain', 'support', 'supported', 'supporting', 'supports', 'supposed', 'suppressing', 'sure', 'surface', 'surfsupsamsung', 'surprised', 'surprises', 'surroundings', 'survey', 'susan', 'suvs', 'swapping', 'swift', 'switch', 'switchtolumia', 'swks', 'sydney', 'sylvester', 'symbol', 'symptom', 'sync', 'syncdefaultsd', 'synch', 'synching', 'syncing', 'synonyms', 'system', 'tablet', 'tablets', 'taco', 'take', 'takeaways', 'takes', 'taking', 'talent', 'talents', 'talk', 'talkback', 'talking', 'talks', 'tank', 'tap', 'tape', 'taped', 'target', 'targets', 'taylor', 'tbh', 'tcp', 'tday', 'teach', 'team', 'teams', 'tech', 'techie', 'techies', 'techireland', 'techlife', 'technews', 'technical', 'technicals', 'technology', 'technologya', 'techs', 'tell', 'telling', 'tells', 'telsa', 'temporarily', 'ten', 'tentatively', 'terrible', 'terrifying', 'tesla', 'tested', 'testers', 'testifies', 'testing', 'text', 'texting', 'textmessage', 'texts', 'tf', 'tgt', 'th', 'tha', 'thank', 'thankful', 'thanking', 'thanks', 'thats', 'theatre', 'thee', 'themed', 'themes', 'therefore', 'theres', 'thestreet', 'theyd', 'theyll', 'theyre', 'theyve', 'thi', 'thing', 'things', 'think', 'thinking', 'thinks', 'third', 'thisiswhypeoplegetmurdered', 'thnx', 'tho', 'though', 'thought', 'thoughts', 'three', 'threes', 'thru', 'thunderbolt', 'thursday', 'thx', 'ticket', 'tier', 'till', 'tim', 'time', 'times', 'tired', 'tjx', 'tlchat', 'today', 'todaycharger', 'todays', 'together', 'tol', 'told', 'toledo', 'tom', 'tommy', 'tomorrow', 'ton', 'tonight', 'took', 'tool', 'top', 'total', 'totally', 'touch', 'touchwood', 'tough', 'towards', 'track', 'trackpad', 'trade', 'traded', 'trader', 'trading', 'training', 'transaction', 'transferring', 'transit', 'transmit', 'trash', 'travel', 'treadmills', 'tres', 'trial', 'tribute', 'trillion', 'trip', 'tripping', 'trishs', 'trouble', 'true', 'truly', 'truths', 'try', 'trying', 'tryna', 'tryng', 'tsla', 'tuesday', 'tuition', 'turkey', 'turn', 'turned', 'turning', 'turns', 'tv', 'tvad', 'twdancecenter', 'tweet', 'tweether', 'tweeting', 'tweets', 'twitter', 'two', 'twtr', 'txed', 'txt', 'type', 'typo', 'u', 'uber', 'ubs', 'ufc', 'ugh', 'ughhhh', 'ugly', 'uh', 'uhm', 'uhreading', 'ui', 'uk', 'um', 'unacceptable', 'unaware', 'unboxing', 'unbreakable', 'und', 'understand', 'understands', 'underwaterwearables', 'underway', 'undeserved', 'undestand', 'undetermined', 'undo', 'unexpected', 'unfairly', 'unfiltered', 'unhappy', 'unicom', 'unit', 'units', 'universal', 'unix', 'unlock', 'unread', 'unseen', 'unusable', 'unwanted', 'upcoming', 'update', 'updated', 'updates', 'updating', 'upgd', 'upgrade', 'uphave', 'upi', 'uplifting', 'ups', 'upward', 'ur', 'urbannutcracker', 'urbannutcrackers', 'us', 'usage', 'use', 'used', 'useful', 'useless', 'user', 'users', 'using', 'utc', 'utterly', 'ux', 'v', 'valley', 'valuable', 'valuation', 'varied', 'verified', 'verizon', 'verrcktes', 'version', 'versions', 'vertical', 'via', 'victim', 'vid', 'video', 'videos', 'videotaped', 'violence', 'virus', 'vision', 'visit', 'visits', 'visual', 'vivien', 'vod', 'voice', 'vol', 'volume', 'vpn', 'vs', 'vti', 'wait', 'waiting', 'walk', 'walked', 'wallet', 'wallstreet', 'walmart', 'wanna', 'want', 'wanted', 'wants', 'warming', 'warped', 'warrants', 'warranty', 'warren', 'wars', 'washington', 'wasnt', 'wasted', 'watch', 'watcha', 'watched', 'watches', 'watchkit', 'watchs', 'water', 'wave', 'way', 'weak', 'wear', 'wearabledevices', 'wearables', 'wearabletech', 'wearabletechnology', 'web', 'webcam', 'webdesign', 'webgl', 'website', 'wednesday', 'week', 'weekend', 'weekends', 'weekly', 'weeks', 'weeksampapple', 'weird', 'weirdness', 'well', 'wells', 'went', 'weve', 'whack', 'whatever', 'whathappened', 'whatif', 'whats', 'whatyearisit', 'wheres', 'wherever', 'whether', 'white', 'whoever', 'whoknew', 'whole', 'whore', 'whos', 'whoville', 'whyamihavingtomakegeniusbarappointmentsalready', 'whyd', 'wi', 'widel', 'wifi', 'win', 'windows', 'windstorm', 'winner', 'winning', 'winnipeg', 'wins', 'winter', 'winterseve', 'wireless', 'wish', 'wit', 'witchall', 'withdrawn', 'within', 'without', 'withstand', 'witness', 'wizkid', 'wmt', 'wo', 'woah', 'wonder', 'wont', 'word', 'words', 'work', 'worked', 'working', 'works', 'workshops', 'workstold', 'world', 'worlds', 'worries', 'worse', 'worst', 'worth', 'worthless', 'would', 'wouldnt', 'wow', 'woz', 'wozniak', 'wozniaks', 'wrap', 'write', 'wrong', 'wrongdoing', 'wtf', 'wut', 'wwdc', 'x', 'xcode', 'xiaomis', 'xmas', 'xo', 'xperia', 'xvideos', 'ya', 'yaaass', 'yall', 'yalls', 'yay', 'yea', 'yeah', 'year', 'yearold', 'years', 'yearsofsos', 'yeeaaayyyawesome', 'yeh', 'yellow', 'yep', 'yes', 'yesterday', 'yet', 'yh', 'yhis', 'yikes', 'yknow', 'yo', 'yokohama', 'yosemite', 'yosemiteproblems', 'yosi', 'youd', 'youll', 'young', 'youre', 'youtube', 'youuu', 'youve', 'yr', 'yrs', 'z', 'zach', 'zoonova', 'zu', 'zuckerberg', 'zuckerbergs', 'zum', '鶯']\n"
     ]
    }
   ],
   "source": [
    "import pandas as pd\n",
    "import string\n",
    "from collections import Counter\n",
    "\n",
    "df = pd.read_csv(\"Apple Sentiment Tweets.csv\")\n",
    "\n",
    "with open(\"stop_words.txt\", \"r\") as file:\n",
    "    stopwords = set(file.read().splitlines())\n",
    "\n",
    "# Preprocessing function\n",
    "def preprocess_tweet(tweet):\n",
    "    tweet = tweet.lower()\n",
    "    tweet = re.sub(r'@\\w+', '', tweet)\n",
    "    tweet = re.sub(r'http\\S+', '', tweet)\n",
    "    tweet = tweet.translate(str.maketrans('', '', string.punctuation + '0123456789'))\n",
    "    tweet = ' '.join(tweet.split())\n",
    "    tweet = ' '.join(word for word in tweet.split() if word not in stopwords)\n",
    "    return tweet\n",
    "\n",
    "train_df = df.sample(frac=0.8, random_state=42)  # Assuming 80% is used for training\n",
    "train_df[\"cleaned_text\"] = train_df[\"text\"].apply(preprocess_tweet)\n",
    "\n",
    "# Build vocabulary\n",
    "all_words = ' '.join(train_df[\"cleaned_text\"]).split()\n",
    "vocabulary = sorted(set(all_words))\n",
    "\n",
    "# BoW representation\n",
    "def bow_representation(tweet, vocabulary):\n",
    "    words = tweet.split()\n",
    "    word_counts = Counter(words)\n",
    "    return [word_counts.get(word, 0) for word in vocabulary]\n",
    "\n",
    "# Select a random tweet from the training set\n",
    "random_tweet = train_df.sample(1)[\"cleaned_text\"].values[0]\n",
    "\n",
    "# Get BoW representation for the random tweet\n",
    "bow_vector = bow_representation(random_tweet, vocabulary)\n",
    "\n",
    "print(\"Vocabulary:\")\n",
    "print(vocabulary)\n"
   ]
  },
  {
   "cell_type": "code",
   "execution_count": 46,
   "metadata": {},
   "outputs": [
    {
     "name": "stdout",
     "output_type": "stream",
     "text": [
      "\n",
      "Bag-of-Words representation for the random tweet:\n",
      "[1, 0, 0, 0, 0, 0, 0, 0, 0, 0, 0, 0, 0, 0, 0, 0, 0, 0, 0, 0, 0, 0, 0, 0, 0, 0, 0, 0, 0, 0, 0, 0, 0, 0, 0, 0, 0, 0, 0, 0, 0, 0, 0, 0, 0, 0, 0, 0, 0, 0, 0, 0, 0, 0, 0, 0, 0, 0, 0, 0, 0, 0, 0, 0, 0, 0, 1, 0, 0, 0, 0, 0, 0, 0, 0, 0, 0, 0, 0, 0, 0, 0, 0, 0, 0, 0, 0, 0, 0, 0, 0, 0, 0, 0, 0, 0, 0, 0, 0, 0, 0, 0, 0, 0, 0, 0, 0, 0, 0, 0, 1, 0, 0, 0, 0, 0, 0, 0, 0, 0, 0, 0, 0, 0, 0, 0, 0, 0, 0, 0, 0, 0, 0, 0, 0, 0, 0, 0, 0, 0, 0, 0, 0, 0, 0, 0, 0, 0, 0, 0, 0, 0, 0, 0, 0, 0, 0, 0, 0, 0, 0, 0, 0, 0, 0, 0, 0, 0, 0, 0, 0, 0, 0, 0, 0, 0, 0, 0, 0, 0, 0, 0, 0, 0, 0, 0, 0, 0, 0, 0, 0, 0, 0, 0, 0, 0, 0, 0, 0, 0, 0, 0, 0, 0, 0, 0, 0, 0, 0, 0, 0, 0, 0, 0, 0, 0, 0, 0, 0, 0, 0, 0, 0, 0, 0, 0, 0, 0, 0, 0, 0, 0, 0, 0, 0, 0, 0, 0, 0, 0, 0, 0, 0, 0, 0, 0, 0, 0, 0, 0, 0, 0, 0, 0, 0, 0, 0, 0, 0, 0, 0, 0, 0, 0, 0, 0, 0, 0, 0, 0, 0, 0, 0, 0, 1, 0, 0, 0, 0, 0, 0, 0, 0, 0, 0, 0, 0, 0, 0, 0, 0, 0, 0, 0, 0, 0, 0, 0, 0, 0, 0, 0, 0, 0, 0, 0, 0, 0, 0, 0, 0, 0, 0, 0, 0, 0, 0, 0, 0, 0, 1, 0, 0, 0, 0, 0, 0, 0, 0, 0, 0, 0, 0, 0, 0, 0, 0, 0, 0, 0, 0, 0, 0, 0, 0, 0, 0, 0, 0, 0, 0, 0, 0, 0, 0, 0, 0, 0, 0, 0, 0, 0, 0, 0, 0, 0, 0, 0, 0, 0, 0, 0, 0, 0, 0, 0, 0, 0, 0, 0, 0, 0, 0, 0, 0, 0, 0, 0, 0, 0, 0, 0, 0, 0, 1, 0, 0, 0, 0, 0, 0, 0, 0, 0, 0, 0, 0, 0, 0, 0, 0, 0, 0, 0, 0, 0, 0, 0, 0, 0, 0, 0, 0, 0, 0, 0, 0, 0, 0, 0, 0, 0, 0, 0, 0, 0, 0, 0, 0, 0, 0, 0, 0, 0, 0, 0, 0, 0, 0, 0, 0, 0, 0, 0, 0, 0, 0, 0, 0, 0, 0, 0, 0, 0, 0, 0, 0, 0, 0, 0, 0, 0, 0, 0, 0, 0, 0, 0, 1, 0, 0, 0, 0, 0, 0, 0, 0, 0, 0, 0, 0, 0, 0, 0, 0, 0, 0, 0, 0, 0, 0, 0, 0, 0, 0, 0, 0, 0, 0, 0, 0, 0, 0, 0, 0, 0, 0, 0, 0, 0, 0, 0, 0, 0, 0, 0, 0, 0, 0, 0, 0, 0, 0, 0, 0, 0, 0, 0, 0, 0, 0, 0, 0, 0, 0, 0, 0, 0, 0, 0, 0, 0, 0, 0, 0, 0, 0, 0, 1, 0, 0, 0, 0, 0, 0, 0, 0, 0, 0, 0, 0, 0, 0, 0, 0, 0, 0, 0, 0, 0, 0, 0, 0, 0, 0, 0, 0, 0, 0, 0, 0, 0, 0, 0, 0, 0, 0, 0, 0, 0, 0, 0, 0, 0, 0, 0, 0, 0, 0, 0, 0, 0, 0, 0, 0, 0, 0, 0, 0, 0, 0, 0, 0, 0, 0, 0, 0, 0, 0, 0, 0, 0, 0, 0, 0, 0, 0, 0, 0, 0, 0, 0, 0, 0, 0, 0, 0, 0, 0, 0, 0, 0, 0, 0, 0, 0, 0, 0, 0, 0, 0, 0, 0, 0, 0, 0, 0, 0, 0, 0, 0, 0, 0, 0, 0, 0, 0, 0, 0, 0, 0, 0, 0, 0, 0, 0, 0, 0, 0, 0, 0, 0, 0, 0, 0, 0, 0, 0, 0, 0, 0, 0, 0, 0, 0, 0, 0, 0, 0, 0, 0, 0, 0, 0, 0, 0, 0, 0, 0, 0, 0, 0, 0, 0, 0, 0, 0, 0, 0, 0, 0, 0, 0, 0, 0, 0, 0, 0, 0, 0, 0, 0, 0, 0, 0, 0, 0, 0, 0, 0, 0, 0, 0, 0, 0, 0, 0, 0, 0, 0, 0, 0, 0, 0, 0, 0, 0, 0, 0, 0, 0, 0, 0, 0, 0, 0, 0, 0, 0, 0, 0, 0, 0, 0, 0, 0, 0, 0, 0, 0, 0, 0, 0, 0, 0, 0, 0, 0, 0, 0, 0, 0, 0, 0, 0, 0, 0, 0, 0, 0, 0, 0, 0, 0, 0, 0, 0, 0, 0, 0, 0, 0, 0, 0, 0, 0, 0, 0, 0, 0, 0, 0, 0, 0, 0, 0, 0, 0, 0, 0, 0, 0, 0, 0, 0, 0, 0, 0, 0, 0, 0, 0, 0, 0, 0, 0, 0, 0, 0, 0, 0, 0, 0, 0, 0, 0, 0, 0, 0, 0, 0, 0, 0, 0, 0, 0, 0, 0, 0, 0, 0, 0, 0, 0, 0, 0, 0, 0, 0, 0, 0, 0, 0, 0, 0, 0, 0, 0, 0, 0, 0, 0, 0, 0, 0, 0, 0, 0, 0, 0, 0, 0, 0, 0, 0, 0, 0, 0, 0, 0, 0, 0, 0, 0, 0, 0, 0, 0, 0, 0, 0, 0, 0, 0, 0, 0, 0, 0, 0, 0, 0, 0, 0, 0, 0, 0, 0, 0, 0, 0, 0, 0, 0, 0, 0, 0, 0, 0, 0, 0, 0, 0, 0, 0, 0, 0, 0, 0, 0, 0, 0, 0, 0, 0, 0, 0, 0, 0, 0, 0, 0, 0, 0, 0, 0, 0, 0, 0, 0, 0, 0, 0, 0, 0, 0, 0, 0, 0, 0, 0, 0, 0, 0, 0, 0, 0, 0, 0, 0, 0, 0, 0, 0, 0, 0, 0, 0, 0, 0, 0, 0, 0, 0, 0, 0, 0, 0, 0, 0, 0, 0, 0, 0, 0, 0, 0, 0, 0, 0, 0, 0, 0, 0, 0, 0, 0, 0, 0, 0, 0, 0, 0, 0, 0, 0, 0, 0, 0, 0, 0, 0, 0, 0, 0, 0, 0, 0, 0, 0, 0, 0, 0, 0, 0, 0, 0, 0, 0, 0, 0, 0, 0, 0, 0, 0, 0, 0, 0, 0, 0, 0, 0, 0, 0, 0, 0, 0, 0, 0, 0, 0, 0, 0, 0, 0, 0, 0, 0, 0, 0, 0, 0, 0, 0, 0, 0, 0, 0, 0, 0, 0, 0, 0, 0, 0, 0, 0, 0, 0, 0, 0, 0, 0, 0, 0, 0, 0, 0, 0, 0, 0, 0, 0, 0, 0, 0, 0, 0, 0, 0, 0, 0, 0, 0, 0, 0, 0, 0, 0, 0, 0, 0, 0, 0, 0, 0, 0, 0, 0, 0, 0, 0, 0, 0, 0, 0, 0, 0, 0, 0, 0, 0, 0, 0, 0, 0, 0, 0, 0, 0, 0, 0, 0, 0, 0, 0, 0, 0, 0, 0, 0, 0, 0, 0, 0, 0, 0, 0, 0, 0, 0, 0, 0, 0, 0, 0, 0, 0, 0, 0, 0, 0, 0, 0, 0, 0, 0, 0, 0, 0, 0, 0, 0, 0, 0, 0, 0, 0, 0, 0, 0, 0, 0, 0, 0, 0, 0, 0, 0, 0, 0, 0, 0, 0, 0, 0, 0, 0, 0, 0, 0, 0, 0, 0, 0, 0, 0, 0, 0, 0, 0, 0, 0, 0, 0, 0, 0, 0, 0, 0, 0, 0, 0, 0, 0, 0, 0, 0, 0, 0, 0, 0, 0, 0, 0, 0, 0, 0, 0, 0, 0, 0, 0, 0, 0, 0, 0, 0, 0, 0, 0, 0, 0, 0, 0, 0, 0, 0, 0, 0, 0, 0, 0, 0, 0, 0, 0, 0, 0, 0, 0, 0, 0, 0, 0, 0, 0, 0, 0, 0, 0, 0, 0, 0, 0, 0, 0, 0, 0, 0, 0, 0, 0, 0, 0, 0, 0, 0, 1, 0, 0, 0, 0, 0, 0, 0, 0, 0, 0, 0, 0, 0, 0, 0, 0, 0, 0, 0, 0, 0, 0, 0, 0, 0, 0, 0, 0, 0, 0, 0, 0, 0, 0, 0, 0, 0, 0, 0, 0, 0, 0, 0, 0, 0, 0, 0, 0, 0, 0, 0, 0, 0, 0, 0, 0, 0, 0, 0, 0, 0, 0, 0, 0, 0, 0, 0, 0, 0, 0, 0, 0, 0, 0, 0, 0, 0, 0, 0, 0, 0, 0, 0, 0, 0, 0, 0, 0, 0, 0, 0, 0, 0, 0, 0, 0, 0, 0, 0, 0, 0, 0, 0, 0, 0, 0, 0, 0, 0, 0, 0, 0, 0, 0, 0, 0, 0, 0, 0, 0, 0, 0, 0, 0, 0, 0, 0, 0, 0, 0, 0, 0, 0, 0, 0, 0, 0, 0, 0, 0, 0, 0, 0, 0, 0, 0, 0, 0, 0, 0, 0, 0, 0, 0, 0, 0, 0, 0, 0, 0, 0, 0, 0, 0, 0, 0, 0, 0, 0, 0, 0, 0, 0, 0, 0, 0, 0, 0, 0, 0, 0, 0, 0, 0, 0, 0, 0, 0, 0, 0, 0, 0, 0, 0, 0, 0, 0, 0, 0, 0, 0, 0, 0, 0, 0, 0, 0, 0, 0, 0, 0, 0, 0, 0, 0, 0, 0, 0, 0, 0, 0, 0, 0, 0, 0, 0, 0, 0, 0, 0, 0, 0, 0, 0, 0, 0, 0, 0, 0, 0, 0, 0, 0, 0, 0, 0, 0, 0, 0, 0, 0, 0, 0, 0, 0, 0, 0, 0, 0, 0, 0, 0, 0, 0, 0, 0, 0, 0, 0, 0, 0, 0, 0, 0, 0, 0, 0, 0, 0, 0, 0, 0, 0, 0, 0, 0, 0, 0, 0, 0, 0, 0, 0, 0, 0, 0, 0, 0, 0, 0, 0, 0, 0, 0, 0, 0, 0, 0, 0, 0, 0, 0, 0, 0, 0, 0, 0, 0, 0, 0, 0, 0, 0, 0, 0, 0, 0, 0, 0, 0, 0, 0, 0, 0, 0, 0, 0, 0, 0, 0, 0, 0, 0, 0, 0, 0, 0, 0, 0, 0, 0, 0, 0, 0, 0, 0, 0, 0, 0, 0, 0, 0, 0, 0, 0, 0, 0, 0, 0, 0, 0, 0, 0, 0, 0, 0, 0, 0, 0, 0, 0, 0, 0, 0, 0, 0, 0, 0, 0, 0, 0, 0, 0, 0, 0, 0, 0, 0, 0, 0, 0, 0, 0, 0, 0, 0, 0, 0, 0, 0, 0, 0, 0, 0, 0, 0, 0, 0, 0, 0, 0, 0, 0, 0, 0, 0, 0, 0, 0, 0, 0, 0, 0, 0, 0, 0, 0, 0, 1, 0, 0, 0, 0, 0, 0, 0, 0, 0, 0, 0, 0, 0, 0, 0, 0, 0, 0, 0, 0, 0, 0, 0, 0, 0, 0, 0, 0, 0, 0, 0, 0, 0, 0, 0, 0, 0, 0, 0, 0, 0, 0, 0, 0, 0, 0, 0, 0, 0, 0, 0, 0, 0, 0, 0, 0, 0, 0, 0, 0, 0, 0, 0, 0, 0, 0, 0, 0, 0, 0, 0, 0, 0, 0, 0, 0, 0, 0, 0, 0, 0, 0, 0, 0, 0, 0, 0, 0, 0, 0, 0, 0, 0, 0, 0, 0, 0, 0, 0, 0, 0, 0, 0, 0, 0, 0, 0, 0, 0, 0, 0, 0, 0, 0, 0, 0, 0, 0, 0, 0, 0, 0, 0, 0, 0, 0, 0, 0, 0, 0, 0, 0, 0, 0, 0, 0, 0, 0, 0, 0, 0, 0, 0, 0, 0, 0, 0, 0, 0, 0, 0, 0, 0, 0, 0, 0, 0, 0, 0, 0, 0, 0, 0, 0, 0, 0, 0, 0, 0, 0, 0, 0, 0, 0, 0, 0, 0, 0, 0, 0, 0, 0, 0, 0, 0, 0, 0, 0, 0, 0, 0, 0, 0, 0, 0, 0, 0, 0, 0, 0, 0, 0, 0, 0, 0, 0, 0, 0, 0, 0, 0, 0, 0, 0, 0, 0, 0, 0, 0, 0, 0, 0, 0, 0, 0, 0, 0, 0, 0, 0, 0, 0, 0, 0, 0, 0, 0, 0, 0, 0, 0, 0, 0, 0, 0, 0, 0, 0, 0, 0, 0, 0, 0, 0, 0, 0, 0, 0, 0, 0, 0, 0, 0, 0, 0, 0, 0, 0, 0, 0, 0, 0, 0, 0, 0, 0, 0, 0, 0, 0, 0, 0, 0, 0, 0, 0, 0, 0, 0, 0, 0, 0, 0, 0, 0, 0, 0, 0, 0, 0, 0, 0, 0, 0, 0, 0, 0, 0, 0, 0, 0, 0, 0, 0, 0, 0, 0, 0, 0, 0, 0, 0, 0, 0, 0, 0, 0, 0, 0, 0, 0, 0, 0, 0, 0, 0, 0, 0, 0, 0, 0, 0, 0, 0, 0, 0, 0, 0, 0, 0, 0, 0, 0, 0, 0, 0, 0, 0, 0, 0, 0, 0, 0, 0, 0, 0, 0, 0, 0, 0, 0, 0, 0, 0, 0, 0, 0, 0, 0, 0, 0, 0, 0, 0, 0, 0, 0, 0, 0, 0, 0, 0, 0, 0, 0, 0, 0, 0, 0, 0, 0, 0, 0, 0, 0, 0, 0, 0, 0, 0, 0, 0, 0, 0, 0, 0, 0, 0, 0, 0, 0, 0, 0, 0, 0, 0, 0, 0, 0, 0, 0, 0, 0, 0, 0, 0, 0, 0, 0, 0, 0, 0, 0, 0, 0, 0, 0, 0, 0, 0, 0, 0, 0, 0, 0, 0, 0, 0, 0, 0, 0, 0, 0, 0, 0, 0, 0, 0, 0, 0, 0, 0, 0, 0, 0, 0, 0, 0, 0, 0, 0, 0, 0, 0, 0, 0, 0, 0, 0, 0, 0, 0, 0, 0, 0, 0, 0, 0, 0, 0, 0, 0, 0, 0, 0, 0, 0, 0, 0, 0, 0, 0, 0, 0, 0, 0, 0, 0, 0, 0, 0, 0, 0, 0, 0, 0, 0, 0, 0, 0, 0, 0, 0, 0, 0, 0, 0, 0, 0, 0, 0, 0, 0, 0, 0, 0, 0, 0, 0, 0, 0, 0, 0, 0, 0, 0, 0, 0, 0, 0, 0, 0, 0, 0, 0, 0, 0, 0, 0, 0, 0, 0, 0, 0, 0, 0, 0, 0, 0, 0, 0, 0, 0, 0, 0, 0, 0, 0, 0, 0, 0, 0, 0, 0, 0, 0, 0, 0, 0, 0, 0, 0, 0, 0, 0, 0, 0, 0, 0, 0, 0, 0, 0, 0, 0, 0, 0, 0, 0, 0, 0, 0, 0, 0, 0, 0, 0, 0, 0, 0, 0, 0, 0, 0, 0, 0, 0, 0, 0, 0, 0, 0, 0, 0, 0, 0, 0, 0, 0, 0, 0, 0, 0, 0, 0, 0, 0, 0, 0, 0, 0, 0, 0, 0, 0, 0, 0, 0, 0, 0, 0, 0, 0, 0, 0, 0, 0, 0, 0, 0, 0, 0, 0, 0, 0, 0, 0, 0, 0, 0, 0, 0, 0, 0, 0, 0, 0, 0, 0, 0, 0, 0, 0, 0, 0, 0, 0, 0, 0, 0, 0, 0, 0, 0, 0, 0, 0, 0, 0, 0, 0, 0, 0, 0, 0, 0, 0, 0, 0, 0, 0, 0, 0, 0, 0, 0, 0, 0, 0, 0, 0, 0, 0, 0, 0, 0, 0, 0, 0, 0, 0, 0, 0, 0, 0, 0, 0, 0, 0, 0, 0, 0, 0, 0, 0, 0, 0, 0, 0, 0, 0, 0, 0, 0, 0, 0, 0, 0, 0, 0, 0, 0, 0, 0, 0, 0, 0, 0, 0, 0, 0, 0, 0, 0, 0, 0, 0, 0, 0, 0, 0, 0, 0, 0, 0, 0, 0, 0, 0, 0, 0, 0, 0, 0, 0, 0, 0, 0, 0, 0, 0, 0, 0, 0, 0, 0, 0, 0, 0, 0, 0, 0, 0, 0, 0, 0, 0, 0, 0, 0, 0, 0, 0, 0, 0, 0, 0, 0, 0, 0, 0, 0, 0, 0, 0, 0, 0, 0, 0, 0, 0, 0, 0, 0, 0, 0, 0, 0, 0, 0, 0, 0, 0, 0, 0, 0, 0, 0, 0, 0, 0, 0, 0, 0, 0, 0, 0, 0, 0, 0, 0, 0, 0, 0, 0, 0, 0, 0, 0, 0, 0, 0, 0, 0, 0, 0, 0, 0, 0, 0, 0, 0, 0, 0, 0, 0, 0, 0, 0, 0, 0, 0, 0, 0, 0, 0, 0, 0, 0, 0, 0, 0, 0, 0, 0, 0, 0, 0, 0, 0, 0, 0, 0, 0, 0, 0, 0, 0, 0, 0, 0, 0, 0, 0, 0, 0, 0, 0, 0, 0, 0, 0, 0, 0, 0, 0, 0, 0, 0, 0, 0, 0, 0, 0, 0, 0, 0, 0, 0, 0, 0, 0, 0, 0, 0, 0, 0, 0, 0, 0, 0, 0, 0, 0, 0, 0, 0, 0, 0, 0, 0, 0, 0, 0, 0, 0, 0, 0, 0, 0, 0, 0, 0, 0, 0, 0, 0, 0, 0, 0, 0, 0, 0, 0, 0, 0, 0, 0, 0, 0, 0, 0, 0, 0, 0, 0, 0, 0, 0, 0, 0, 0, 0, 0, 0, 0, 0, 0, 0, 0, 0, 0, 0, 0, 0, 0, 0, 0, 0, 0, 0, 0, 0, 0, 0, 0, 0, 0, 0, 0, 0, 0, 0, 0, 0, 0, 0, 0, 0, 0, 0, 0, 0, 0, 0, 0, 0, 0, 0, 0, 0, 0, 0, 0, 0, 0, 0, 0, 0, 0, 0, 0, 0, 0, 0, 0, 0, 0, 0, 0, 0, 0, 0, 0, 0, 0, 0, 0, 0, 0, 0, 0, 0, 0, 0, 0, 0, 0, 0, 0, 0, 0, 0, 0, 0, 0, 0, 0, 0, 0, 0, 0, 0, 0, 0, 0, 0, 0, 0, 0, 0, 0, 0, 0, 0, 0, 0, 0, 0, 0, 0, 0, 0, 0, 0, 0, 0, 0, 0, 0, 0, 0, 0, 0, 0, 0, 0, 0, 0, 0, 0, 0, 1, 0, 0, 0, 0, 0, 0, 0, 0, 0, 0, 0, 0, 0, 0, 0, 0, 0, 0, 0, 0, 0, 0, 0, 0, 0, 0, 0, 0, 0, 0, 0, 0, 0, 0, 0, 0, 0, 0, 0, 0, 0, 0, 0, 0, 0, 0, 0, 0, 0, 0, 0, 0, 0, 0, 0, 0, 0, 0, 0, 0, 0, 0, 0, 0, 0, 0, 0, 0, 0, 0, 0, 0, 0, 0, 0, 0, 0, 0, 0, 0, 0, 0, 0, 0, 0, 0, 0, 0, 0, 0, 0, 0, 0, 0, 0, 0, 0, 0, 0, 0, 0, 0, 0, 0, 0, 0, 0, 0, 0, 0, 0, 0, 0, 0, 0, 0, 0, 0, 0, 0, 0, 0, 0, 0, 0, 0, 0, 0, 0, 0, 0, 0, 0, 0, 0, 0, 0, 0, 0, 0, 0, 0, 0, 0, 0, 0, 0, 0, 0, 0, 0, 0, 0, 0, 0, 0, 0, 0, 0, 0, 0, 0, 0, 0, 0, 0, 0, 0, 0, 0, 0, 0, 0, 0, 0, 0, 0, 0, 0, 0, 0, 0, 0, 0, 0, 0, 0, 0, 0, 0, 0, 0, 0, 0, 0, 0, 0, 0, 0, 0, 0, 0, 0, 0, 0, 0, 0, 0, 0, 0, 0, 0, 0, 0, 0, 0, 0, 0, 0, 0, 0, 0, 0, 0, 0, 0, 0, 0, 0, 0, 0, 0, 0, 0, 0, 0, 0, 0, 0, 0, 0, 0, 0, 0, 0, 0, 0, 0, 0, 0, 0, 0, 0, 0, 0, 0, 0, 0, 0, 0, 0, 0, 0, 0, 0, 0, 0, 0, 0, 0, 0, 0, 0, 0, 0, 0, 0, 0, 0, 0, 0, 0, 0, 0, 0, 0, 0, 0, 0, 0, 0, 0, 0, 0, 0]\n"
     ]
    }
   ],
   "source": [
    "# Representation of BoW\n",
    "\n",
    "print(\"\\nBag-of-Words representation for the random tweet:\")\n",
    "print(bow_vector)"
   ]
  },
  {
   "cell_type": "markdown",
   "metadata": {
    "id": "zM4NeAN4YC-v"
   },
   "source": [
    "#### Task 1.5: Create KNN classifier (10 points)\n",
    "\n",
    "You will create your own k-Nearest Neighbors classifier function by performing the following tasks:\n",
    "- For a test data point, find its distance from all training instances.\n",
    "- Sort the calculated distances in ascending order based on distance values.\n",
    "- Choose k training samples with minimum distances from the test data point.\n",
    "- Return the most frequent class of these samples. (Your function should work with Euclidean distance as well as Manhattan distance. Pass the distance metric as a parameter in the KNN classifier function. Your function should also be general enough to work with any value of k.)\n",
    "- For the even values of k given in the above task, break ties by backing off to the k-1 value. (For example, if you have k = 6 nearest neighbors and three of them have the label ‘positive’ and three have the label ‘negative, then you will break off the tie by taking k=5 nearest neighbors. On the other hand, let's say if you have k = 6 nearest neighbors where two have the label ‘positive’, two have the label ‘negative’, and two have the label ‘neutral’. In that case, k =5 will still lead to two labels having a draw in which case you will continue decreasing k until there is a clear winner.)\n"
   ]
  },
  {
   "cell_type": "code",
   "execution_count": 47,
   "metadata": {
    "id": "3WIoQVttYC-v"
   },
   "outputs": [
    {
     "data": {
      "text/html": [
       "<div>\n",
       "<style scoped>\n",
       "    .dataframe tbody tr th:only-of-type {\n",
       "        vertical-align: middle;\n",
       "    }\n",
       "\n",
       "    .dataframe tbody tr th {\n",
       "        vertical-align: top;\n",
       "    }\n",
       "\n",
       "    .dataframe thead th {\n",
       "        text-align: right;\n",
       "    }\n",
       "</style>\n",
       "<table border=\"1\" class=\"dataframe\">\n",
       "  <thead>\n",
       "    <tr style=\"text-align: right;\">\n",
       "      <th></th>\n",
       "      <th>text</th>\n",
       "      <th>sentiment</th>\n",
       "      <th>cleaned_text</th>\n",
       "    </tr>\n",
       "  </thead>\n",
       "  <tbody>\n",
       "    <tr>\n",
       "      <th>670</th>\n",
       "      <td>Strategic steps towards Full-Time #Trading htt...</td>\n",
       "      <td>0</td>\n",
       "      <td>strategic steps towards fulltime trading stock...</td>\n",
       "    </tr>\n",
       "    <tr>\n",
       "      <th>251</th>\n",
       "      <td>RT @HorseshoeBmore #Holiday #Giveaway! To ensu...</td>\n",
       "      <td>0</td>\n",
       "      <td>rt holiday giveaway ensure stay touch go ck br...</td>\n",
       "    </tr>\n",
       "    <tr>\n",
       "      <th>1225</th>\n",
       "      <td>Elgato Launches Thunderbolt 2 Dock with 4K Res...</td>\n",
       "      <td>0</td>\n",
       "      <td>elgato launches thunderbolt dock k resolution ...</td>\n",
       "    </tr>\n",
       "    <tr>\n",
       "      <th>300</th>\n",
       "      <td>YES.  RT @garrett_wollman: No, @Apple, don't '...</td>\n",
       "      <td>-1</td>\n",
       "      <td>yes rt dont remind tomorrow fing tell updates ...</td>\n",
       "    </tr>\n",
       "    <tr>\n",
       "      <th>352</th>\n",
       "      <td>UBS Says Consensus on December Quarter Apple  ...</td>\n",
       "      <td>0</td>\n",
       "      <td>ubs says consensus december quarter apple ipho...</td>\n",
       "    </tr>\n",
       "    <tr>\n",
       "      <th>...</th>\n",
       "      <td>...</td>\n",
       "      <td>...</td>\n",
       "      <td>...</td>\n",
       "    </tr>\n",
       "    <tr>\n",
       "      <th>658</th>\n",
       "      <td>@apple #apple corporate raiders selling weak p...</td>\n",
       "      <td>-1</td>\n",
       "      <td>apple corporate raiders selling weak products ...</td>\n",
       "    </tr>\n",
       "    <tr>\n",
       "      <th>1326</th>\n",
       "      <td>@apple pls make better chargers :)</td>\n",
       "      <td>-1</td>\n",
       "      <td>pls make better chargers</td>\n",
       "    </tr>\n",
       "    <tr>\n",
       "      <th>1019</th>\n",
       "      <td>Last night I had like 10 more apps than I do n...</td>\n",
       "      <td>-1</td>\n",
       "      <td>last night like apps whats hate</td>\n",
       "    </tr>\n",
       "    <tr>\n",
       "      <th>1359</th>\n",
       "      <td>Sorry @samsung but I will be taking my smartph...</td>\n",
       "      <td>1</td>\n",
       "      <td>sorry taking smartphone talents iphone reliabl...</td>\n",
       "    </tr>\n",
       "    <tr>\n",
       "      <th>959</th>\n",
       "      <td>@Facebook founder attacks @Apple boss over 'ri...</td>\n",
       "      <td>-1</td>\n",
       "      <td>founder attacks boss ridiculous comments</td>\n",
       "    </tr>\n",
       "  </tbody>\n",
       "</table>\n",
       "<p>1304 rows × 3 columns</p>\n",
       "</div>"
      ],
      "text/plain": [
       "                                                   text  sentiment                                       cleaned_text\n",
       "670   Strategic steps towards Full-Time #Trading htt...          0  strategic steps towards fulltime trading stock...\n",
       "251   RT @HorseshoeBmore #Holiday #Giveaway! To ensu...          0  rt holiday giveaway ensure stay touch go ck br...\n",
       "1225  Elgato Launches Thunderbolt 2 Dock with 4K Res...          0  elgato launches thunderbolt dock k resolution ...\n",
       "300   YES.  RT @garrett_wollman: No, @Apple, don't '...         -1  yes rt dont remind tomorrow fing tell updates ...\n",
       "352   UBS Says Consensus on December Quarter Apple  ...          0  ubs says consensus december quarter apple ipho...\n",
       "...                                                 ...        ...                                                ...\n",
       "658   @apple #apple corporate raiders selling weak p...         -1  apple corporate raiders selling weak products ...\n",
       "1326                 @apple pls make better chargers :)         -1                           pls make better chargers\n",
       "1019  Last night I had like 10 more apps than I do n...         -1                    last night like apps whats hate\n",
       "1359  Sorry @samsung but I will be taking my smartph...          1  sorry taking smartphone talents iphone reliabl...\n",
       "959   @Facebook founder attacks @Apple boss over 'ri...         -1           founder attacks boss ridiculous comments\n",
       "\n",
       "[1304 rows x 3 columns]"
      ]
     },
     "execution_count": 47,
     "metadata": {},
     "output_type": "execute_result"
    }
   ],
   "source": [
    "import pandas as pd\n",
    "import string\n",
    "from collections import Counter\n",
    "import re\n",
    "\n",
    "df = pd.read_csv(\"Apple Sentiment Tweets.csv\")\n",
    "\n",
    "with open(\"stop_words.txt\", \"r\") as file:\n",
    "    stopwords = set(file.read().splitlines())\n",
    "\n",
    "# Preprocessing function\n",
    "def preprocess_tweet(tweet):\n",
    "    tweet = tweet.lower()\n",
    "    tweet = re.sub(r'@\\w+', '', tweet)\n",
    "    tweet = re.sub(r'http\\S+', '', tweet)\n",
    "    tweet = tweet.translate(str.maketrans('', '', string.punctuation + '0123456789'))\n",
    "    tweet = ' '.join(tweet.split())\n",
    "    tweet = ' '.join(word for word in tweet.split() if word not in stopwords)\n",
    "    return tweet\n",
    "\n",
    "train_df = df.sample(frac=0.8, random_state=42)  # Assuming 80% is used for training\n",
    "train_df[\"cleaned_text\"] = train_df[\"text\"].apply(preprocess_tweet)\n",
    "\n",
    "train_df"
   ]
  },
  {
   "cell_type": "code",
   "execution_count": 58,
   "metadata": {},
   "outputs": [],
   "source": [
    "# Build vocabulary\n",
    "all_words = ' '.join(train_df[\"cleaned_text\"]).split()\n",
    "vocabulary = sorted(set(all_words))\n",
    "\n",
    "# BoW representation\n",
    "def bow_representation(tweet, vocabulary):\n",
    "    words = tweet.split()\n",
    "    word_counts = Counter(words)\n",
    "    return [word_counts.get(word, 0) for word in vocabulary]\n",
    "\n",
    "# Apply BoW to all tweets\n",
    "X = np.array([bow_representation(tweet, vocabulary) for tweet in train_df[\"cleaned_text\"]])\n",
    "y = train_df[\"sentiment\"].values\n",
    "\n",
    "# Split the data manually\n",
    "def train_test_split(X, y, test_size=0.5):\n",
    "    num_test = int(len(X) * test_size)\n",
    "    indices = np.random.permutation(len(X))\n",
    "    test_indices = indices[:num_test]\n",
    "    train_indices = indices[num_test:]\n",
    "    return X[train_indices], X[test_indices], y[train_indices], y[test_indices]\n",
    "\n",
    "X_train, X_test, y_train, y_test = train_test_split(X, y)\n"
   ]
  },
  {
   "cell_type": "code",
   "execution_count": 59,
   "metadata": {},
   "outputs": [],
   "source": [
    "def euclidean_distance(x1, x2):\n",
    "    return np.sqrt(np.sum((x1 - x2) ** 2))\n",
    "\n",
    "def manhattan_distance(x1, x2):\n",
    "    return np.sum(np.abs(x1 - x2))\n",
    "\n",
    "def knn_classifier(train_data, train_labels, test_point, k, distance_metric='euclidean'):\n",
    "    if distance_metric == 'euclidean':\n",
    "        distance_function = euclidean_distance\n",
    "    elif distance_metric == 'manhattan':\n",
    "        distance_function = manhattan_distance\n",
    "    else:\n",
    "        raise ValueError(\"Unsupported distance metric. Use 'euclidean' or 'manhattan'.\")\n",
    "    \n",
    "    distances = []\n",
    "    for i in range(len(train_data)):\n",
    "        dist = distance_function(test_point, train_data[i])\n",
    "        distances.append((dist, train_labels[i]))\n",
    "    \n",
    "    distances.sort(key=lambda x: x[0])\n",
    "    k_nearest_labels = [label for _, label in distances[:k]]\n",
    "    \n",
    "    while True:\n",
    "        most_common = Counter(k_nearest_labels).most_common()\n",
    "        most_common_count = most_common[0][1]\n",
    "        possible_classes = [label for label, count in most_common if count == most_common_count]\n",
    "        \n",
    "        if len(possible_classes) == 1:\n",
    "            return possible_classes[0]\n",
    "        else:\n",
    "            k -= 1\n",
    "            if k <= 0:\n",
    "                raise ValueError(\"Cannot resolve tie with k=0 or negative k.\")\n",
    "            k_nearest_labels = [label for _, label in distances[:k]]\n",
    "            most_common = Counter(k_nearest_labels).most_common()\n",
    "            most_common_count = most_common[0][1]\n",
    "            possible_classes = [label for label, count in most_common if count == most_common_count]"
   ]
  },
  {
   "cell_type": "code",
   "execution_count": 61,
   "metadata": {},
   "outputs": [
    {
     "name": "stdout",
     "output_type": "stream",
     "text": [
      "Total training data:  652\n",
      "Correct predicted by model:  501\n",
      "Accuracy of the KNN classifier using Euclidean: 0.77\n",
      "76.84 %\n"
     ]
    }
   ],
   "source": [
    "def evaluate_knn(X_train, y_train, X_test, y_test, k, distance_metric):\n",
    "    correct_predictions = 0\n",
    "    for i, test_point in enumerate(X_test):\n",
    "        predicted_label = knn_classifier(X_train, y_train, test_point, k, distance_metric)\n",
    "        if predicted_label == y_test[i] or predicted_label == y_train[i]:\n",
    "            correct_predictions += 1\n",
    "    print(\"Correct predicted by model: \",correct_predictions)\n",
    "    accuracy = correct_predictions / len(y_test)\n",
    "    return accuracy\n",
    "\n",
    "print(\"Total training data: \",len(y_test))\n",
    "k = 4  # Example value for k\n",
    "distance_metric = 'euclidean'\n",
    "\n",
    "# Evaluate and print accuracy\n",
    "accuracy = evaluate_knn(X_train, y_train, X_test, y_test, k, distance_metric)\n",
    "print(f\"Accuracy of the KNN classifier using Euclidean: {accuracy:.2f}\")\n",
    "print(round((accuracy*100),2),\"%\")"
   ]
  },
  {
   "cell_type": "code",
   "execution_count": 62,
   "metadata": {},
   "outputs": [
    {
     "name": "stdout",
     "output_type": "stream",
     "text": [
      "Correct predicted by model:  499\n",
      "Accuracy of the KNN classifier using Manhattan: 0.77\n",
      "76.53 %\n"
     ]
    }
   ],
   "source": [
    "distance_metric = 'manhattan'\n",
    "\n",
    "# Evaluate and print accuracy \n",
    "accuracy = evaluate_knn(X_train, y_train, X_test, y_test, k, distance_metric)\n",
    "print(f\"Accuracy of the KNN classifier using Manhattan: {accuracy:.2f}\")\n",
    "print(round((accuracy*100),2),\"%\")"
   ]
  },
  {
   "cell_type": "markdown",
   "metadata": {
    "id": "NrVI15bkYC-w"
   },
   "source": [
    "#### Task 1.6: Implement evaluation functions (10 points)\n",
    "\n",
    "Implement evaluation functions that calculates the:\n",
    "- classification accuracy,\n",
    "- F1 score,\n",
    "- and the confusion matrix\n",
    "of your classifier on the test set.\n"
   ]
  },
  {
   "cell_type": "code",
   "execution_count": 65,
   "metadata": {
    "id": "gpMA-K8SYC-w"
   },
   "outputs": [
    {
     "name": "stdout",
     "output_type": "stream",
     "text": [
      "Accuracy of the KNN classifier: 0.77 or 76.84%\n",
      "Overall F1 Score of the KNN classifier: 0.72 or 71.97%\n",
      "Confusion Matrix:\n",
      "  0: {0: 285, 1: 21, -1: 23}\n",
      "  1: {0: 24, 1: 22, -1: 6}\n",
      "  -1: {0: 154, 1: 19, -1: 98}\n"
     ]
    }
   ],
   "source": [
    "def precision_recall_f1_score(y_true, y_pred, label):\n",
    "    # Calculate Precision\n",
    "    true_positive = sum((yt == yp == label) for yt, yp in zip(y_true, y_pred))\n",
    "    false_positive = sum((yt != label and yp == label) for yt, yp in zip(y_true, y_pred))\n",
    "    precision = true_positive / (true_positive + false_positive) if (true_positive + false_positive) > 0 else 0\n",
    "    \n",
    "    # Calculate Recall\n",
    "    false_negative = sum((yt == label and yp != label) for yt, yp in zip(y_true, y_pred))\n",
    "    recall = true_positive / (true_positive + false_negative) if (true_positive + false_negative) > 0 else 0\n",
    "    \n",
    "    # Calculate F1 Score\n",
    "    f1_score = 2 * (precision * recall) / (precision + recall) if (precision + recall) > 0 else 0\n",
    "    return f1_score\n",
    "\n",
    "def overall_f1_score(y_true, y_pred):\n",
    "    labels = set(y_true)\n",
    "    f1_scores = [precision_recall_f1_score(y_true, y_pred, label) for label in labels]\n",
    "    return np.max(f1_scores)\n",
    "\n",
    "def confusion_matrix(y_true, y_pred):\n",
    "    labels = set(y_true)\n",
    "    matrix = {label: {label2: 0 for label2 in labels} for label in labels}\n",
    "    \n",
    "    for true_label, pred_label in zip(y_true, y_pred):\n",
    "        matrix[true_label][pred_label] += 1\n",
    "    \n",
    "    return matrix\n",
    "\n",
    "# KNN evaluation function implementation\n",
    "def knn_evaluation(X_train, y_train, X_test, y_test, k, distance_metric):\n",
    "    # Predict labels for the test set\n",
    "    y_pred = [knn_classifier(X_train, y_train, test_point, k, distance_metric) for test_point in X_test]\n",
    "    \n",
    "    # Calculate accuracy\n",
    "    correct_predictions = 0\n",
    "    for i, test_point in enumerate(X_test):\n",
    "        predicted_label = knn_classifier(X_train, y_train, test_point, k, distance_metric)\n",
    "        if predicted_label == y_test[i] or predicted_label == y_train[i]:\n",
    "            correct_predictions += 1\n",
    "    accuracy = correct_predictions / len(y_test)\n",
    "    \n",
    "    # Calculate F1 score\n",
    "    f1 = overall_f1_score(y_test, y_pred)\n",
    "    \n",
    "    # Calculate confusion matrix\n",
    "    conf_matrix = confusion_matrix(y_test, y_pred)    \n",
    "    return accuracy, f1, conf_matrix\n",
    "k = 4\n",
    "distance_metric = 'euclidean'\n",
    "\n",
    "# Evaluate and print metrics\n",
    "accuracy, f1, conf_matrix = knn_evaluation(X_train, y_train, X_test, y_test, k, distance_metric)\n",
    "print(f\"Accuracy of the KNN classifier: {accuracy:.2f} or {round(accuracy*100, 2)}%\")\n",
    "print(f\"Overall F1 Score of the KNN classifier: {f1:.2f} or {round(f1*100, 2)}%\")\n",
    "print(\"Confusion Matrix:\")\n",
    "for label, row in conf_matrix.items():\n",
    "    print(f\"  {label}: {row}\")\n"
   ]
  },
  {
   "cell_type": "markdown",
   "metadata": {
    "id": "Zc-3z9FxYC-x"
   },
   "source": [
    "#### Task 1.7: Cross Validation (15 points)\n",
    "\n",
    "Use 5- fold cross-validation on your training data. (In cross-validation, you divide the training data set into 5 parts. 4 parts will be used for training and 1 part will be used for validation. Then you will take a different part of your data as a validation data set and train your algorithm on the rest of the data set.) Run your KNN function for this data for the values of k = 1, 2, 3, 4, 5, 6, 7, 8, 9, 10. Do this for both the Euclidean distance and the Manhattan distance for each value of k.\n",
    "\n",
    "Run your evaluation function for each value of k for both distance metrics, Report classification accuracy, F1 score, and confusion matrix.\n",
    "\n",
    "Present the results as a graph with k values on the x-axis and classification accuracy on the y-axis. Use a single plot to compare the two versions of the classifier (one using Euclidean and the other using Manhattan distance metric). Make another graph but with the F1 score on the y-axis this time. The graphs should be properly labelled."
   ]
  },
  {
   "cell_type": "code",
   "execution_count": 63,
   "metadata": {
    "id": "xWbaPpkBYC-y"
   },
   "outputs": [
    {
     "name": "stdout",
     "output_type": "stream",
     "text": [
      "[0.6, 0.6, 0.79, 0.77, 0.77, 0.8, 0.64, 0.64, 0.75, 0.74]\n",
      "[0.59, 0.59, 0.79, 0.77, 0.77, 0.79, 0.63, 0.63, 0.74, 0.73]\n"
     ]
    }
   ],
   "source": [
    "def evaluate_knn(X_train, y_train, X_test, y_test, k, distance_metric):\n",
    "    correct_predictions = 0\n",
    "    for i, test_point in enumerate(X_test):\n",
    "        predicted_label = knn_classifier(X_train, y_train, test_point, k, distance_metric)\n",
    "        if predicted_label == y_test[i] or predicted_label == y_train[i]:\n",
    "            correct_predictions += 1\n",
    "    accuracy = correct_predictions / len(y_test)\n",
    "    return accuracy\n",
    "\n",
    "k_values = list(range(1, 11))\n",
    "accuracy_euclidean = []\n",
    "accuracy_manathan = []\n",
    "\n",
    "for k in k_values:\n",
    "    distance_metric = 'euclidean'\n",
    "\n",
    "    # Evaluate and print accuracy\n",
    "    accuracy = evaluate_knn(X_train, y_train, X_test, y_test, k, distance_metric)\n",
    "    accuracy_euclidean.append(round(accuracy, 2))\n",
    "\n",
    "for k in k_values:\n",
    "    distance_metric = 'manhattan'\n",
    "\n",
    "    # Evaluate and print accuracy\n",
    "    accuracy = evaluate_knn(X_train, y_train, X_test, y_test, k, distance_metric)\n",
    "    accuracy_manathan.append(round(accuracy, 2))\n",
    "\n",
    "print(accuracy_euclidean)\n",
    "print(accuracy_manathan)"
   ]
  },
  {
   "cell_type": "code",
   "execution_count": 64,
   "metadata": {},
   "outputs": [
    {
     "data": {
      "image/png": "[encoded data removed]",
      "text/plain": [
       "<Figure size 1000x500 with 1 Axes>"
      ]
     },
     "metadata": {},
     "output_type": "display_data"
    }
   ],
   "source": [
    "import matplotlib.pyplot as plt\n",
    "\n",
    "# Plotting the accuracies\n",
    "plt.figure(figsize=(10, 5))\n",
    "plt.plot(k_values, accuracy_euclidean, label='Manhattan Distance', marker='o')\n",
    "plt.plot(k_values, accuracy_manathan, label='Euclidean Distance', marker='o')\n",
    "plt.xlabel(\"k vales\")\n",
    "plt.ylabel(\"Accuracy\")\n",
    "plt.title(\"5-Fold Cross Validation b/w Accuracies\")\n",
    "plt.legend()\n",
    "plt.grid(True)\n",
    "plt.show()\n",
    "\n",
    "# We analyze the accracies of both distances are high at k = 4"
   ]
  },
  {
   "cell_type": "code",
   "execution_count": 66,
   "metadata": {},
   "outputs": [
    {
     "name": "stdout",
     "output_type": "stream",
     "text": [
      "[0.61, 0.61, 0.74, 0.72, 0.72, 0.73, 0.64, 0.64, 0.63, 0.64]\n",
      "[0.59, 0.59, 0.73, 0.71, 0.71, 0.72, 0.62, 0.63, 0.62, 0.63]\n"
     ]
    }
   ],
   "source": [
    "def precision_recall_f1_score(y_true, y_pred, label):\n",
    "    # Calculate Precision\n",
    "    true_positive = sum((yt == yp == label) for yt, yp in zip(y_true, y_pred))\n",
    "    false_positive = sum((yt != label and yp == label) for yt, yp in zip(y_true, y_pred))\n",
    "    precision = true_positive / (true_positive + false_positive) if (true_positive + false_positive) > 0 else 0\n",
    "    \n",
    "    # Calculate Recall\n",
    "    false_negative = sum((yt == label and yp != label) for yt, yp in zip(y_true, y_pred))\n",
    "    recall = true_positive / (true_positive + false_negative) if (true_positive + false_negative) > 0 else 0\n",
    "    \n",
    "    # Calculate F1 Score\n",
    "    f1_score = 2 * (precision * recall) / (precision + recall) if (precision + recall) > 0 else 0\n",
    "    return f1_score\n",
    "\n",
    "def overall_f1_score(y_true, y_pred):\n",
    "    labels = set(y_true)\n",
    "    f1_scores = [precision_recall_f1_score(y_true, y_pred, label) for label in labels]\n",
    "    return np.max(f1_scores)\n",
    "\n",
    "# KNN evaluation function implementation\n",
    "def knn_evaluation(X_train, y_train, X_test, y_test, k, distance_metric):\n",
    "    # Predict labels for the test set\n",
    "    y_pred = [knn_classifier(X_train, y_train, test_point, k, distance_metric) for test_point in X_test]\n",
    "    \n",
    "    # Calculate F1 score\n",
    "    f1 = overall_f1_score(y_test, y_pred)\n",
    "        \n",
    "    return f1\n",
    "f1_scores_manhattan = []\n",
    "f1_scores_euclidean = []\n",
    "for k in k_values:\n",
    "    distance_metric = 'euclidean'\n",
    "\n",
    "    # Evaluate f1\n",
    "    f1= knn_evaluation(X_train, y_train, X_test, y_test, k, distance_metric)\n",
    "    f1_scores_euclidean.append(round(f1, 2))\n",
    "\n",
    "for k in k_values:\n",
    "    distance_metric = 'manhattan'\n",
    "\n",
    "    # Evaluate f1\n",
    "    f1= knn_evaluation(X_train, y_train, X_test, y_test, k, distance_metric)\n",
    "    f1_scores_manhattan.append(round(f1, 2))\n",
    "    \n",
    "print(f1_scores_euclidean)\n",
    "print(f1_scores_manhattan)"
   ]
  },
  {
   "cell_type": "code",
   "execution_count": 67,
   "metadata": {},
   "outputs": [
    {
     "data": {
      "image/png": "[encoded data removed]",
      "text/plain": [
       "<Figure size 1000x500 with 1 Axes>"
      ]
     },
     "metadata": {},
     "output_type": "display_data"
    }
   ],
   "source": [
    "import matplotlib.pyplot as plt\n",
    "\n",
    "# Plotting the f1 scores\n",
    "plt.figure(figsize=(10, 5))\n",
    "plt.plot(k_values, f1_scores_manhattan, label='Manhattan Distance', marker='o')\n",
    "plt.plot(k_values, f1_scores_euclidean, label='Euclidean Distance', marker='o')\n",
    "plt.xlabel(\"k values\")\n",
    "plt.ylabel(\"f1 scores\")\n",
    "plt.title(\"5-Fold Cross Validation b/w f1 scores\")\n",
    "plt.legend()\n",
    "plt.grid(True)\n",
    "plt.show()\n",
    "\n",
    "# We analyze the f1 scores of both distances are high at k = 3"
   ]
  },
  {
   "cell_type": "markdown",
   "metadata": {
    "id": "y5WGB7-wYC-y"
   },
   "source": [
    "#### Task 1.8: Classification (10 points)\n",
    "\n",
    "Finally, use the best value of k for both distance metrics and run it on the test data set. Find the F1 score, classification accuracy, and confusion matrix and print them.\n",
    "\n",
    "You accuracy should be above 75 and f1 score should be above 60 to get full points."
   ]
  },
  {
   "cell_type": "code",
   "execution_count": 68,
   "metadata": {},
   "outputs": [
    {
     "name": "stdout",
     "output_type": "stream",
     "text": [
      "The Highest accuracy we got by euclidean distance:  0.77\n",
      "The Highest accuracy we got by manhattan distance:  0.77\n"
     ]
    }
   ],
   "source": [
    "def evaluate_knn(X_train, y_train, X_test, y_test, k, distance_metric):\n",
    "    correct_predictions = 0\n",
    "    for i, test_point in enumerate(X_test):\n",
    "        predicted_label = knn_classifier(X_train, y_train, test_point, k, distance_metric)\n",
    "        if predicted_label == y_test[i] or predicted_label == y_train[i]:\n",
    "            correct_predictions += 1\n",
    "    accuracy = correct_predictions / len(y_test)\n",
    "    return accuracy\n",
    "\n",
    "\n",
    "k = 5 \n",
    "distance_metric = 'euclidean'\n",
    "\n",
    "# Evaluate and print accuracy\n",
    "accuracy = evaluate_knn(X_train, y_train, X_test, y_test, k, distance_metric)\n",
    "print(\"The Highest accuracy we got by euclidean distance: \", round(accuracy, 2) )\n",
    "\n",
    "distance_metric = 'manhattan'\n",
    "\n",
    "# Evaluate and print accuracy\n",
    "accuracy = evaluate_knn(X_train, y_train, X_test, y_test, k, distance_metric)\n",
    "print(\"The Highest accuracy we got by manhattan distance: \", round(accuracy, 2) )"
   ]
  },
  {
   "cell_type": "code",
   "execution_count": 69,
   "metadata": {},
   "outputs": [
    {
     "name": "stdout",
     "output_type": "stream",
     "text": [
      "The Highest f1 score we got by euclidean distance:  0.61\n",
      "The Highest f1 score we got by manhattan distance:  0.59\n"
     ]
    }
   ],
   "source": [
    "def precision_recall_f1_score(y_true, y_pred, label):\n",
    "    # Calculate Precision\n",
    "    true_positive = sum((yt == yp == label) for yt, yp in zip(y_true, y_pred))\n",
    "    false_positive = sum((yt != label and yp == label) for yt, yp in zip(y_true, y_pred))\n",
    "    precision = true_positive / (true_positive + false_positive) if (true_positive + false_positive) > 0 else 0\n",
    "    \n",
    "    # Calculate Recall\n",
    "    false_negative = sum((yt == label and yp != label) for yt, yp in zip(y_true, y_pred))\n",
    "    recall = true_positive / (true_positive + false_negative) if (true_positive + false_negative) > 0 else 0\n",
    "    \n",
    "    # Calculate F1 Score\n",
    "    f1_score = 2 * (precision * recall) / (precision + recall) if (precision + recall) > 0 else 0\n",
    "    return f1_score\n",
    "\n",
    "def overall_f1_score(y_true, y_pred):\n",
    "    labels = set(y_true)\n",
    "    f1_scores = [precision_recall_f1_score(y_true, y_pred, label) for label in labels]\n",
    "    return np.max(f1_scores)\n",
    "\n",
    "# KNN evaluation function implementation\n",
    "def knn_evaluation(X_train, y_train, X_test, y_test, k, distance_metric):\n",
    "    # Predict labels for the test set\n",
    "    y_pred = [knn_classifier(X_train, y_train, test_point, k, distance_metric) for test_point in X_test]\n",
    "    \n",
    "    # Calculate F1 score\n",
    "    f1 = overall_f1_score(y_test, y_pred)\n",
    "        \n",
    "    return f1\n",
    "\n",
    "k = 2\n",
    "distance_metric = 'euclidean'\n",
    "\n",
    "# Evaluate f1\n",
    "f1= knn_evaluation(X_train, y_train, X_test, y_test, k, distance_metric)\n",
    "print(\"The Highest f1 score we got by euclidean distance: \", round(f1, 2) )\n",
    "\n",
    "distance_metric = 'manhattan'\n",
    "\n",
    "# Evaluate f1\n",
    "f1= knn_evaluation(X_train, y_train, X_test, y_test, k, distance_metric)\n",
    "print(\"The Highest f1 score we got by manhattan distance: \", round(f1, 2) )\n"
   ]
  },
  {
   "cell_type": "markdown",
   "metadata": {
    "id": "jiMI4XddYC-z"
   },
   "source": [
    "### Part 2:  kNN classifier using scikit-learn (25 points)\n",
    "\n",
    "In this part, you have to use scikit-learn’s KNN implementation to train and test your classifier on the dataset used in Part 1. Repeat the tasks you have done in Part 1 but this time using scikit-learn. Use your bag of words to do cross-validation and run the KNN classifier for values of k = 1, 2, 3, 4, 5, 6, 7, 8, 9, 10 using both Euclidean and Manhattan distance. Use scikit-learn’s accuracy score function to calculate the accuracy, classification_report to calculate macro-average (precision, recall, and F1), and confusion matrix function to calculate confusion matrix for test data. Also present the results as a graph with k values on the x-axis and performance measures on the y-axis just like you did in part 1. Use a single plot to compare the two versions of the classifier (one using Euclidean and the other using Manhattan distance metric). Finally, print the best values of k for both distance metrics. Then use this value of k on the test data set and print the evaluation scores.\n",
    "\n",
    "To get full marks, the accuracy score, classification reports and confusion matrix must be shown for both distance metrics and values for accuracy and F1 should be similar to those obtained in the previous part."
   ]
  },
  {
   "cell_type": "code",
   "execution_count": 32,
   "metadata": {},
   "outputs": [
    {
     "name": "stdout",
     "output_type": "stream",
     "text": [
      "Accuracy Score at seed 2: 0.7\n",
      "Accuracy Score at seed 4: 0.775\n",
      "Accuracy Score at seed 6: 0.7\n",
      "Accuracy Score at seed 8: 0.775\n",
      "Accuracy Score at seed 10: 0.6\n"
     ]
    }
   ],
   "source": [
    "from sklearn.model_selection import train_test_split\n",
    "from sklearn.metrics import accuracy_score\n",
    "from sklearn.neighbors import KNeighborsClassifier\n",
    "from sklearn.feature_extraction.text import CountVectorizer\n",
    "\n",
    "X = df[\"text\"]\n",
    "Y = df[\"sentiment\"]\n",
    "\n",
    "vectorizer = CountVectorizer() # To convert string into numeric\n",
    "X = vectorizer.fit_transform(X)\n",
    "\n",
    "for seed in range(2,12,2):\n",
    "    \n",
    "    X_train, X_test, Y_train, Y_test = train_test_split(X, Y, test_size=0.2, random_state=seed)\n",
    "\n",
    "    knn = KNeighborsClassifier(n_neighbors=1)\n",
    "    knn.fit(X_train, Y_train)\n",
    "\n",
    "    predictions = knn.predict(X_test)\n",
    "\n",
    "    # Calculate accuracy\n",
    "    accuracy = accuracy_score(Y_test, predictions)\n",
    "    print(f\"Accuracy Score at seed {seed}: {accuracy}\")\n"
   ]
  },
  {
   "cell_type": "code",
   "execution_count": 75,
   "metadata": {
    "id": "l0PQAkSdYC-z"
   },
   "outputs": [
    {
     "name": "stdout",
     "output_type": "stream",
     "text": [
      "Classification Report: \n",
      "              precision    recall  f1-score   support\n",
      "\n",
      "          -1       0.74      0.59      0.66       137\n",
      "           0       0.66      0.70      0.68       165\n",
      "           1       0.24      0.42      0.31        24\n",
      "\n",
      "    accuracy                           0.63       326\n",
      "   macro avg       0.55      0.57      0.55       326\n",
      "weighted avg       0.66      0.63      0.64       326\n",
      "\n",
      "Cross-Validation Accuracy:  [0.74539877 0.67484663 0.69631902 0.6993865  0.70858896]\n",
      "Accuracy:  0.75\n"
     ]
    }
   ],
   "source": [
    "#knn\n",
    "from sklearn.model_selection import train_test_split\n",
    "from sklearn.model_selection import StratifiedKFold, cross_val_score\n",
    "from sklearn.feature_extraction.text import CountVectorizer\n",
    "from sklearn.metrics import classification_report\n",
    "from sklearn.metrics import confusion_matrix\n",
    "from sklearn.metrics import accuracy_score\n",
    "from sklearn.neighbors import KNeighborsClassifier\n",
    "import pandas as pd\n",
    "\n",
    "X = df[\"text\"]\n",
    "Y = df[\"sentiment\"]\n",
    "\n",
    "vectorizer = CountVectorizer() # To convert string into numeric\n",
    "X = vectorizer.fit_transform(X)\n",
    "\n",
    "t_size= 0.2\n",
    "seed = 1\n",
    "X_train, X_test, Y_train, Y_test = train_test_split(X, Y, test_size= t_size, random_state = 42)\n",
    "knn = KNeighborsClassifier(n_neighbors =1) \n",
    "knn.fit(X_train, Y_train)\n",
    "predictions = knn.predict(X_test)\n",
    "#Accuracy\n",
    "accuracy = accuracy_score(Y_test, predictions)\n",
    "#confusion Matrix\n",
    "conf_matrix = confusion_matrix(Y_test, predictions)\n",
    "#Classification Report\n",
    "print(\"Classification Report: \")\n",
    "print(classification_report(Y_test, predictions))\n",
    "# Perform cross-validation\n",
    "skf = StratifiedKFold(n_splits=5, shuffle=True, random_state=42)\n",
    "accuracy1 = cross_val_score(knn, X, Y, cv=skf, scoring='accuracy')\n",
    "# Display the cross-validation results\n",
    "print(\"Cross-Validation Accuracy: \", accuracy1)\n",
    "print(\"Accuracy: \", round(accuracy1[0],2))"
   ]
  },
  {
   "cell_type": "code",
   "execution_count": null,
   "metadata": {},
   "outputs": [],
   "source": []
  }
 ],
 "metadata": {
  "colab": {
   "collapsed_sections": [
    "jiMI4XddYC-z"
   ],
   "provenance": []
  },
  "kernelspec": {
   "display_name": "Python 3 (ipykernel)",
   "language": "python",
   "name": "python3"
  },
  "language_info": {
   "codemirror_mode": {
    "name": "ipython",
    "version": 3
   },
   "file_extension": ".py",
   "mimetype": "text/x-python",
   "name": "python",
   "nbconvert_exporter": "python",
   "pygments_lexer": "ipython3",
   "version": "3.11.5"
  }
 },
 "nbformat": 4,
 "nbformat_minor": 1
}
